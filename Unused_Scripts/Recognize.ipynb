{
 "cells": [
  {
   "cell_type": "code",
   "execution_count": 1,
   "metadata": {},
   "outputs": [
    {
     "name": "stderr",
     "output_type": "stream",
     "text": [
      "/home/ubuntu/anaconda3/envs/tensorflow_p36/lib/python3.6/site-packages/h5py/__init__.py:36: FutureWarning: Conversion of the second argument of issubdtype from `float` to `np.floating` is deprecated. In future, it will be treated as `np.float64 == np.dtype(float).type`.\n",
      "  from ._conv import register_converters as _register_converters\n",
      "/home/ubuntu/anaconda3/envs/tensorflow_p36/lib/python3.6/site-packages/matplotlib/__init__.py:1067: UserWarning: Duplicate key in file \"/home/ubuntu/.config/matplotlib/matplotlibrc\", line #2\n",
      "  (fname, cnt))\n",
      "/home/ubuntu/anaconda3/envs/tensorflow_p36/lib/python3.6/site-packages/matplotlib/__init__.py:1067: UserWarning: Duplicate key in file \"/home/ubuntu/.config/matplotlib/matplotlibrc\", line #3\n",
      "  (fname, cnt))\n"
     ]
    }
   ],
   "source": [
    "import tensorflow as tf\n",
    "import numpy as np\n",
    "import shelve\n",
    "import joblib\n",
    "from math import ceil\n",
    "import time\n",
    "import layers\n",
    "import model\n",
    "from Augment import valid_datagen\n",
    "import helper\n",
    "from test_config import vocabulary,infer_batch_size,mount_point,input_dir,resume_epoch,img_height,img_width\n",
    "from Arch import CNN"
   ]
  },
  {
   "cell_type": "code",
   "execution_count": 2,
   "metadata": {},
   "outputs": [
    {
     "name": "stdout",
     "output_type": "stream",
     "text": [
      "++Conv layer info info:\n",
      "Num_filters =  64\n",
      "Kernel_size =  3\n",
      "Strides =  1\n",
      "activation =  leaky_relu\n",
      "is_training =  Tensor(\"Placeholder:0\", dtype=bool)\n",
      "dropout =  Tensor(\"strided_slice:0\", shape=(), dtype=float32)\n",
      "--Max_pool info:\n",
      "Strides =  (3, 2)\n",
      "++Conv layer info info:\n",
      "Num_filters =  128\n",
      "Kernel_size =  3\n",
      "Strides =  1\n",
      "activation =  leaky_relu\n",
      "is_training =  Tensor(\"Placeholder:0\", dtype=bool)\n",
      "dropout =  Tensor(\"strided_slice_1:0\", shape=(), dtype=float32)\n",
      "--Max_pool info:\n",
      "Strides =  (3, 2)\n",
      "++Conv layer info info:\n",
      "Num_filters =  256\n",
      "Kernel_size =  3\n",
      "Strides =  1\n",
      "activation =  leaky_relu\n",
      "is_training =  Tensor(\"Placeholder:0\", dtype=bool)\n",
      "dropout =  Tensor(\"strided_slice_2:0\", shape=(), dtype=float32)\n",
      "++Conv layer info info:\n",
      "Num_filters =  256\n",
      "Kernel_size =  3\n",
      "Strides =  1\n",
      "activation =  leaky_relu\n",
      "is_training =  Tensor(\"Placeholder:0\", dtype=bool)\n",
      "dropout =  Tensor(\"strided_slice_3:0\", shape=(), dtype=float32)\n",
      "--Max_pool info:\n",
      "Strides =  (3, 1)\n",
      "++Conv layer info info:\n",
      "Num_filters =  512\n",
      "Kernel_size =  3\n",
      "Strides =  1\n",
      "activation =  leaky_relu\n",
      "is_training =  Tensor(\"Placeholder:0\", dtype=bool)\n",
      "dropout =  Tensor(\"strided_slice_4:0\", shape=(), dtype=float32)\n",
      "++Conv layer info info:\n",
      "Num_filters =  512\n",
      "Kernel_size =  3\n",
      "Strides =  1\n",
      "activation =  leaky_relu\n",
      "is_training =  Tensor(\"Placeholder:0\", dtype=bool)\n",
      "dropout =  Tensor(\"strided_slice_5:0\", shape=(), dtype=float32)\n",
      "--Max_pool info:\n",
      "Strides =  (3, 1)\n",
      "++Conv layer info info:\n",
      "Num_filters =  512\n",
      "Kernel_size =  2\n",
      "Strides =  1\n",
      "activation =  leaky_relu\n",
      "is_training =  Tensor(\"Placeholder:0\", dtype=bool)\n",
      "dropout =  Tensor(\"strided_slice_6:0\", shape=(), dtype=float32)\n",
      "Convolution_Output_size:(1,189)\n",
      "LSTM_Output_size: (?, 189, 512)\n",
      "**Fully connected info:\n",
      "units =  80\n",
      "activation =  None\n",
      "is_training =  Tensor(\"Placeholder:0\", dtype=bool)\n",
      "dropout =  Tensor(\"Placeholder_3:0\", dtype=float32)\n",
      "INFO:tensorflow:Summary name conv2d/kernel:0-grad is illegal; using conv2d/kernel_0-grad instead.\n",
      "INFO:tensorflow:Summary name conv2d/bias:0-grad is illegal; using conv2d/bias_0-grad instead.\n",
      "INFO:tensorflow:Summary name conv2d_1/kernel:0-grad is illegal; using conv2d_1/kernel_0-grad instead.\n",
      "INFO:tensorflow:Summary name conv2d_1/bias:0-grad is illegal; using conv2d_1/bias_0-grad instead.\n",
      "INFO:tensorflow:Summary name conv2d_2/kernel:0-grad is illegal; using conv2d_2/kernel_0-grad instead.\n",
      "INFO:tensorflow:Summary name conv2d_2/bias:0-grad is illegal; using conv2d_2/bias_0-grad instead.\n",
      "INFO:tensorflow:Summary name conv2d_3/kernel:0-grad is illegal; using conv2d_3/kernel_0-grad instead.\n",
      "INFO:tensorflow:Summary name conv2d_3/bias:0-grad is illegal; using conv2d_3/bias_0-grad instead.\n",
      "INFO:tensorflow:Summary name conv2d_4/kernel:0-grad is illegal; using conv2d_4/kernel_0-grad instead.\n",
      "INFO:tensorflow:Summary name batch_normalization/gamma:0-grad is illegal; using batch_normalization/gamma_0-grad instead.\n",
      "INFO:tensorflow:Summary name batch_normalization/beta:0-grad is illegal; using batch_normalization/beta_0-grad instead.\n",
      "INFO:tensorflow:Summary name conv2d_5/kernel:0-grad is illegal; using conv2d_5/kernel_0-grad instead.\n",
      "INFO:tensorflow:Summary name batch_normalization_1/gamma:0-grad is illegal; using batch_normalization_1/gamma_0-grad instead.\n",
      "INFO:tensorflow:Summary name batch_normalization_1/beta:0-grad is illegal; using batch_normalization_1/beta_0-grad instead.\n",
      "INFO:tensorflow:Summary name conv2d_6/kernel:0-grad is illegal; using conv2d_6/kernel_0-grad instead.\n",
      "INFO:tensorflow:Summary name conv2d_6/bias:0-grad is illegal; using conv2d_6/bias_0-grad instead.\n",
      "INFO:tensorflow:Summary name stack_bidirectional_rnn/cell_0/bidirectional_rnn/fw/lstm_cell/kernel:0-grad is illegal; using stack_bidirectional_rnn/cell_0/bidirectional_rnn/fw/lstm_cell/kernel_0-grad instead.\n",
      "INFO:tensorflow:Summary name stack_bidirectional_rnn/cell_0/bidirectional_rnn/fw/lstm_cell/bias:0-grad is illegal; using stack_bidirectional_rnn/cell_0/bidirectional_rnn/fw/lstm_cell/bias_0-grad instead.\n",
      "INFO:tensorflow:Summary name stack_bidirectional_rnn/cell_0/bidirectional_rnn/bw/lstm_cell/kernel:0-grad is illegal; using stack_bidirectional_rnn/cell_0/bidirectional_rnn/bw/lstm_cell/kernel_0-grad instead.\n",
      "INFO:tensorflow:Summary name stack_bidirectional_rnn/cell_0/bidirectional_rnn/bw/lstm_cell/bias:0-grad is illegal; using stack_bidirectional_rnn/cell_0/bidirectional_rnn/bw/lstm_cell/bias_0-grad instead.\n",
      "INFO:tensorflow:Summary name stack_bidirectional_rnn/cell_1/bidirectional_rnn/fw/lstm_cell/kernel:0-grad is illegal; using stack_bidirectional_rnn/cell_1/bidirectional_rnn/fw/lstm_cell/kernel_0-grad instead.\n",
      "INFO:tensorflow:Summary name stack_bidirectional_rnn/cell_1/bidirectional_rnn/fw/lstm_cell/bias:0-grad is illegal; using stack_bidirectional_rnn/cell_1/bidirectional_rnn/fw/lstm_cell/bias_0-grad instead.\n",
      "INFO:tensorflow:Summary name stack_bidirectional_rnn/cell_1/bidirectional_rnn/bw/lstm_cell/kernel:0-grad is illegal; using stack_bidirectional_rnn/cell_1/bidirectional_rnn/bw/lstm_cell/kernel_0-grad instead.\n",
      "INFO:tensorflow:Summary name stack_bidirectional_rnn/cell_1/bidirectional_rnn/bw/lstm_cell/bias:0-grad is illegal; using stack_bidirectional_rnn/cell_1/bidirectional_rnn/bw/lstm_cell/bias_0-grad instead.\n",
      "INFO:tensorflow:Summary name dense/kernel:0-grad is illegal; using dense/kernel_0-grad instead.\n",
      "INFO:tensorflow:Summary name dense/bias:0-grad is illegal; using dense/bias_0-grad instead.\n",
      "INFO:tensorflow:Summary name conv2d/kernel:0-weight is illegal; using conv2d/kernel_0-weight instead.\n",
      "INFO:tensorflow:Summary name conv2d/bias:0-weight is illegal; using conv2d/bias_0-weight instead.\n",
      "INFO:tensorflow:Summary name conv2d_1/kernel:0-weight is illegal; using conv2d_1/kernel_0-weight instead.\n",
      "INFO:tensorflow:Summary name conv2d_1/bias:0-weight is illegal; using conv2d_1/bias_0-weight instead.\n",
      "INFO:tensorflow:Summary name conv2d_2/kernel:0-weight is illegal; using conv2d_2/kernel_0-weight instead.\n",
      "INFO:tensorflow:Summary name conv2d_2/bias:0-weight is illegal; using conv2d_2/bias_0-weight instead.\n",
      "INFO:tensorflow:Summary name conv2d_3/kernel:0-weight is illegal; using conv2d_3/kernel_0-weight instead.\n",
      "INFO:tensorflow:Summary name conv2d_3/bias:0-weight is illegal; using conv2d_3/bias_0-weight instead.\n",
      "INFO:tensorflow:Summary name conv2d_4/kernel:0-weight is illegal; using conv2d_4/kernel_0-weight instead.\n",
      "INFO:tensorflow:Summary name batch_normalization/gamma:0-weight is illegal; using batch_normalization/gamma_0-weight instead.\n",
      "INFO:tensorflow:Summary name batch_normalization/beta:0-weight is illegal; using batch_normalization/beta_0-weight instead.\n",
      "INFO:tensorflow:Summary name conv2d_5/kernel:0-weight is illegal; using conv2d_5/kernel_0-weight instead.\n",
      "INFO:tensorflow:Summary name batch_normalization_1/gamma:0-weight is illegal; using batch_normalization_1/gamma_0-weight instead.\n",
      "INFO:tensorflow:Summary name batch_normalization_1/beta:0-weight is illegal; using batch_normalization_1/beta_0-weight instead.\n",
      "INFO:tensorflow:Summary name conv2d_6/kernel:0-weight is illegal; using conv2d_6/kernel_0-weight instead.\n",
      "INFO:tensorflow:Summary name conv2d_6/bias:0-weight is illegal; using conv2d_6/bias_0-weight instead.\n",
      "INFO:tensorflow:Summary name stack_bidirectional_rnn/cell_0/bidirectional_rnn/fw/lstm_cell/kernel:0-weight is illegal; using stack_bidirectional_rnn/cell_0/bidirectional_rnn/fw/lstm_cell/kernel_0-weight instead.\n",
      "INFO:tensorflow:Summary name stack_bidirectional_rnn/cell_0/bidirectional_rnn/fw/lstm_cell/bias:0-weight is illegal; using stack_bidirectional_rnn/cell_0/bidirectional_rnn/fw/lstm_cell/bias_0-weight instead.\n",
      "INFO:tensorflow:Summary name stack_bidirectional_rnn/cell_0/bidirectional_rnn/bw/lstm_cell/kernel:0-weight is illegal; using stack_bidirectional_rnn/cell_0/bidirectional_rnn/bw/lstm_cell/kernel_0-weight instead.\n",
      "INFO:tensorflow:Summary name stack_bidirectional_rnn/cell_0/bidirectional_rnn/bw/lstm_cell/bias:0-weight is illegal; using stack_bidirectional_rnn/cell_0/bidirectional_rnn/bw/lstm_cell/bias_0-weight instead.\n",
      "INFO:tensorflow:Summary name stack_bidirectional_rnn/cell_1/bidirectional_rnn/fw/lstm_cell/kernel:0-weight is illegal; using stack_bidirectional_rnn/cell_1/bidirectional_rnn/fw/lstm_cell/kernel_0-weight instead.\n",
      "INFO:tensorflow:Summary name stack_bidirectional_rnn/cell_1/bidirectional_rnn/fw/lstm_cell/bias:0-weight is illegal; using stack_bidirectional_rnn/cell_1/bidirectional_rnn/fw/lstm_cell/bias_0-weight instead.\n"
     ]
    },
    {
     "name": "stdout",
     "output_type": "stream",
     "text": [
      "INFO:tensorflow:Summary name stack_bidirectional_rnn/cell_1/bidirectional_rnn/bw/lstm_cell/kernel:0-weight is illegal; using stack_bidirectional_rnn/cell_1/bidirectional_rnn/bw/lstm_cell/kernel_0-weight instead.\n",
      "INFO:tensorflow:Summary name stack_bidirectional_rnn/cell_1/bidirectional_rnn/bw/lstm_cell/bias:0-weight is illegal; using stack_bidirectional_rnn/cell_1/bidirectional_rnn/bw/lstm_cell/bias_0-weight instead.\n",
      "INFO:tensorflow:Summary name dense/kernel:0-weight is illegal; using dense/kernel_0-weight instead.\n",
      "INFO:tensorflow:Summary name dense/bias:0-weight is illegal; using dense/bias_0-weight instead.\n",
      "Found 1 images belonging to 2 classes.\n"
     ]
    }
   ],
   "source": [
    "graph,dropout_lstm,dropout_fc,inputs,time_steps,targets,loss,train,decoded,label_error_rate,seq_len,is_training,conv_dropout,gradients,interim_dropout= model.model()\n",
    "\n",
    "valid_generator = valid_datagen.flow_from_directory(mount_point+input_dir,target_size=(img_height,img_width),color_mode='grayscale',batch_size = infer_batch_size)\n",
    "\n",
    "num_vbatches = 1"
   ]
  },
  {
   "cell_type": "code",
   "execution_count": 3,
   "metadata": {
    "collapsed": true
   },
   "outputs": [],
   "source": [
    "infer_inputs = []; infer_outputs = []; infer_targets = []"
   ]
  },
  {
   "cell_type": "code",
   "execution_count": 4,
   "metadata": {},
   "outputs": [
    {
     "name": "stdout",
     "output_type": "stream",
     "text": [
      "INFO:tensorflow:Restoring parameters from ../saved_models_ler0.07_leakyrelu/cnn_lstm_fc_37\n",
      "[[0. 1.]]\n",
      "(1, 114, 758, 1)\n",
      "[[0. 1.]]\n",
      "(1, 114, 758, 1)\n"
     ]
    }
   ],
   "source": [
    "with tf.Session(graph = graph) as sess:\n",
    "        \n",
    "    saver = tf.train.Saver(max_to_keep=None)\n",
    "    \n",
    "    sess.run(tf.global_variables_initializer())\n",
    "    \n",
    "    timer  = 0\n",
    "\n",
    "    saver.restore(sess, mount_point+'saved_models_ler0.07_leakyrelu/cnn_lstm_fc_'+str(resume_epoch))\n",
    "\n",
    "    start_time = time.time()\n",
    "\n",
    "    count = 0\n",
    "\n",
    "    for x,y in valid_generator:\n",
    "       \n",
    "        infer_inputs.append(x)\n",
    "        \n",
    "        print(y)\n",
    "        \n",
    "        print(x.shape)\n",
    "        \n",
    "        actual_batch_size = x.shape[0]\n",
    "        \n",
    "        widths = [189]\n",
    "        \n",
    "        if count == num_vbatches:\n",
    "            break\n",
    "\n",
    "        feed = {\n",
    "                     inputs:x,\n",
    "                     time_steps:widths,conv_dropout:[1]*len(CNN),\n",
    "                     dropout_fc:1,dropout_lstm:1,interim_dropout:1,\n",
    "                     is_training:False\n",
    "                }\n",
    "\n",
    "        d = sess.run([decoded],feed_dict=feed)\n",
    "        infer_outputs.append(d)\n",
    "        count+=1"
   ]
  },
  {
   "cell_type": "code",
   "execution_count": 5,
   "metadata": {},
   "outputs": [
    {
     "data": {
      "text/plain": [
       "array([ 0, 35,  0, 57, 68, 68,  0, 55, 67, 67, 70, 72, 53, 61, 66, 71,  0,\n",
       "       28, 16,  0, 31, 47, 44, 41, 30,  0, 29, 41, 70, 44, 30,  0])"
      ]
     },
     "execution_count": 5,
     "metadata": {},
     "output_type": "execute_result"
    }
   ],
   "source": [
    "infer_outputs[0][0][0][1]"
   ]
  },
  {
   "cell_type": "code",
   "execution_count": 6,
   "metadata": {
    "collapsed": true
   },
   "outputs": [],
   "source": [
    "content = \"\".join([vocabulary[char] for char in infer_outputs[0][0][0][1]])"
   ]
  },
  {
   "cell_type": "code",
   "execution_count": 7,
   "metadata": {},
   "outputs": [
    {
     "name": "stdout",
     "output_type": "stream",
     "text": [
      " I epp coortains B2 EUROD COrRD \n"
     ]
    }
   ],
   "source": [
    "print(content)"
   ]
  },
  {
   "cell_type": "code",
   "execution_count": 8,
   "metadata": {
    "collapsed": true
   },
   "outputs": [],
   "source": [
    "img1 = infer_inputs[0][0]\n",
    "img1 = img1.reshape(img1.shape[:2])"
   ]
  },
  {
   "cell_type": "code",
   "execution_count": 9,
   "metadata": {},
   "outputs": [
    {
     "data": {
      "text/plain": [
       "(114, 758)"
      ]
     },
     "execution_count": 9,
     "metadata": {},
     "output_type": "execute_result"
    }
   ],
   "source": [
    "img1.shape"
   ]
  },
  {
   "cell_type": "code",
   "execution_count": 10,
   "metadata": {},
   "outputs": [
    {
     "ename": "NameError",
     "evalue": "name 'plt' is not defined",
     "output_type": "error",
     "traceback": [
      "\u001b[0;31m---------------------------------------------------------------------------\u001b[0m",
      "\u001b[0;31mNameError\u001b[0m                                 Traceback (most recent call last)",
      "\u001b[0;32m<ipython-input-10-31caa2a9aef1>\u001b[0m in \u001b[0;36m<module>\u001b[0;34m()\u001b[0m\n\u001b[0;32m----> 1\u001b[0;31m \u001b[0mplt\u001b[0m\u001b[0;34m.\u001b[0m\u001b[0mimsave\u001b[0m\u001b[0;34m(\u001b[0m\u001b[0;34m'test_input.jpg'\u001b[0m\u001b[0;34m,\u001b[0m\u001b[0mimg1\u001b[0m\u001b[0;34m,\u001b[0m\u001b[0mcmap\u001b[0m\u001b[0;34m=\u001b[0m\u001b[0;34m'gray'\u001b[0m\u001b[0;34m,\u001b[0m\u001b[0mformat\u001b[0m\u001b[0;34m=\u001b[0m\u001b[0;34m'jpg'\u001b[0m\u001b[0;34m)\u001b[0m\u001b[0;34m\u001b[0m\u001b[0m\n\u001b[0m",
      "\u001b[0;31mNameError\u001b[0m: name 'plt' is not defined"
     ]
    }
   ],
   "source": [
    "plt.imsave('test_input.jpg',img1,cmap='gray',format='jpg')"
   ]
  }
 ],
 "metadata": {
  "kernelspec": {
   "display_name": "Python 3",
   "language": "python",
   "name": "python3"
  },
  "language_info": {
   "codemirror_mode": {
    "name": "ipython",
    "version": 3
   },
   "file_extension": ".py",
   "mimetype": "text/x-python",
   "name": "python",
   "nbconvert_exporter": "python",
   "pygments_lexer": "ipython3",
   "version": "3.6.2"
  }
 },
 "nbformat": 4,
 "nbformat_minor": 2
}
