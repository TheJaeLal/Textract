{
 "cells": [
  {
   "cell_type": "code",
   "execution_count": 9,
   "metadata": {},
   "outputs": [],
   "source": [
    "import cv2\n",
    "import shelve\n",
    "import numpy as np\n",
    "import os"
   ]
  },
  {
   "cell_type": "code",
   "execution_count": 10,
   "metadata": {},
   "outputs": [],
   "source": [
    "input_dir_path = '/home/james/Desktop/HCR_Stuff/cropped/'"
   ]
  },
  {
   "cell_type": "code",
   "execution_count": 11,
   "metadata": {},
   "outputs": [],
   "source": [
    "scaled_width = 1000\n",
    "scaled_height = 750"
   ]
  },
  {
   "cell_type": "code",
   "execution_count": 13,
   "metadata": {},
   "outputs": [],
   "source": [
    "image_names = [fname for fname in os.listdir(input_dir_path) if fname.lower().endswith(\".png\") or fname.lower().endswith(\".jpg\")]"
   ]
  },
  {
   "cell_type": "code",
   "execution_count": 14,
   "metadata": {},
   "outputs": [
    {
     "data": {
      "text/plain": [
       "['a01-003.png',\n",
       " 'a01-003x.png',\n",
       " 'a01-014.png',\n",
       " 'a01-011.png',\n",
       " 'a01-000u.png',\n",
       " 'a01-011x.png',\n",
       " 'a01-000x.png']"
      ]
     },
     "execution_count": 14,
     "metadata": {},
     "output_type": "execute_result"
    }
   ],
   "source": [
    "image_names"
   ]
  },
  {
   "cell_type": "code",
   "execution_count": 15,
   "metadata": {},
   "outputs": [],
   "source": [
    "for image_name in image_names:\n",
    "    image = cv2.imread(os.path.join(input_dir_path,image_name),cv2.IMREAD_GRAYSCALE)\n",
    "    resize_image = cv2.resize(image,(scaled_width,scaled_height),interpolation = cv2.INTER_AREA)\n",
    "    cv2.imwrite(os.path.join(input_dir_path,image_name),resize_image)"
   ]
  }
 ],
 "metadata": {
  "kernelspec": {
   "display_name": "Python 3",
   "language": "python",
   "name": "python3"
  },
  "language_info": {
   "codemirror_mode": {
    "name": "ipython",
    "version": 3
   },
   "file_extension": ".py",
   "mimetype": "text/x-python",
   "name": "python",
   "nbconvert_exporter": "python",
   "pygments_lexer": "ipython3",
   "version": "3.6.4"
  }
 },
 "nbformat": 4,
 "nbformat_minor": 2
}
