{
 "cells": [
  {
   "cell_type": "code",
   "execution_count": 1,
   "metadata": {},
   "outputs": [
    {
     "name": "stderr",
     "output_type": "stream",
     "text": [
      "/home/ubuntu/anaconda3/envs/tensorflow_p36/lib/python3.6/site-packages/h5py/__init__.py:36: FutureWarning: Conversion of the second argument of issubdtype from `float` to `np.floating` is deprecated. In future, it will be treated as `np.float64 == np.dtype(float).type`.\n",
      "  from ._conv import register_converters as _register_converters\n",
      "/home/ubuntu/anaconda3/envs/tensorflow_p36/lib/python3.6/site-packages/matplotlib/__init__.py:1067: UserWarning: Duplicate key in file \"/home/ubuntu/.config/matplotlib/matplotlibrc\", line #2\n",
      "  (fname, cnt))\n",
      "/home/ubuntu/anaconda3/envs/tensorflow_p36/lib/python3.6/site-packages/matplotlib/__init__.py:1067: UserWarning: Duplicate key in file \"/home/ubuntu/.config/matplotlib/matplotlibrc\", line #3\n",
      "  (fname, cnt))\n"
     ]
    }
   ],
   "source": [
    "import learning_rate\n",
    "import matplotlib.pyplot as plt"
   ]
  },
  {
   "cell_type": "code",
   "execution_count": 2,
   "metadata": {},
   "outputs": [
    {
     "name": "stdout",
     "output_type": "stream",
     "text": [
      "++Conv layer info info:\n",
      "Num_filters =  16\n",
      "Kernel_size =  3\n",
      "Strides =  1\n",
      "activation =  leaky_relu\n",
      "is_training =  Tensor(\"Placeholder:0\", dtype=bool)\n",
      "dropout =  Tensor(\"strided_slice:0\", shape=(), dtype=float32)\n",
      "--Max_pool info:\n",
      "Strides =  (2, 2)\n",
      "++Conv layer info info:\n",
      "Num_filters =  32\n",
      "Kernel_size =  3\n",
      "Strides =  1\n",
      "activation =  leaky_relu\n",
      "is_training =  Tensor(\"Placeholder:0\", dtype=bool)\n",
      "dropout =  Tensor(\"strided_slice_1:0\", shape=(), dtype=float32)\n",
      "++Conv layer info info:\n",
      "Num_filters =  48\n",
      "Kernel_size =  3\n",
      "Strides =  1\n",
      "activation =  leaky_relu\n",
      "is_training =  Tensor(\"Placeholder:0\", dtype=bool)\n",
      "dropout =  Tensor(\"strided_slice_2:0\", shape=(), dtype=float32)\n",
      "--Max_pool info:\n",
      "Strides =  (2, 2)\n",
      "++Conv layer info info:\n",
      "Num_filters =  64\n",
      "Kernel_size =  3\n",
      "Strides =  1\n",
      "activation =  leaky_relu\n",
      "is_training =  Tensor(\"Placeholder:0\", dtype=bool)\n",
      "dropout =  Tensor(\"strided_slice_3:0\", shape=(), dtype=float32)\n",
      "++Conv layer info info:\n",
      "Num_filters =  80\n",
      "Kernel_size =  3\n",
      "Strides =  1\n",
      "activation =  leaky_relu\n",
      "is_training =  Tensor(\"Placeholder:0\", dtype=bool)\n",
      "dropout =  Tensor(\"strided_slice_4:0\", shape=(), dtype=float32)\n",
      "Convolution_Output_size:(29,190)\n",
      "LSTM_Output_size: (?, 190, 512)\n",
      "**Fully connected info:\n",
      "units =  80\n",
      "activation =  None\n",
      "is_training =  Tensor(\"Placeholder:0\", dtype=bool)\n",
      "dropout =  Tensor(\"Placeholder_4:0\", dtype=float32)\n",
      "INFO:tensorflow:Restoring parameters from ../saved_models/cnn_lstm_fc_57\n"
     ]
    }
   ],
   "source": [
    "losses,learn_rates = learning_rate.find([0.0000001,0.001],multiplier = 5,update_frequency = 20,resume_epoch = 57)"
   ]
  },
  {
   "cell_type": "code",
   "execution_count": 3,
   "metadata": {},
   "outputs": [
    {
     "name": "stdout",
     "output_type": "stream",
     "text": [
      "[125.11904411315918, 123.96594467163087, 121.68488845825195, 125.64517021179199, 126.65421066284179, 126.75871200561524]\n"
     ]
    }
   ],
   "source": [
    "print(losses)"
   ]
  },
  {
   "cell_type": "code",
   "execution_count": 4,
   "metadata": {},
   "outputs": [],
   "source": [
    "min_loss = 1e5\n",
    "min_loss_i = 0\n",
    "for i in range(len(losses)):\n",
    "    if losses[i] < min_loss:\n",
    "        min_loss = losses[i]\n",
    "        min_loss_i = i\n",
    "\n",
    "best_learn_rate = learn_rates[max(0,min_loss_i-1)]"
   ]
  },
  {
   "cell_type": "code",
   "execution_count": 5,
   "metadata": {},
   "outputs": [
    {
     "name": "stdout",
     "output_type": "stream",
     "text": [
      "5e-07\n"
     ]
    }
   ],
   "source": [
    "print(best_learn_rate)"
   ]
  },
  {
   "cell_type": "code",
   "execution_count": 6,
   "metadata": {},
   "outputs": [],
   "source": [
    "ideal_loss = losses[max(0,min_loss_i-1)]"
   ]
  },
  {
   "cell_type": "code",
   "execution_count": 7,
   "metadata": {},
   "outputs": [
    {
     "name": "stdout",
     "output_type": "stream",
     "text": [
      "123.96594467163087\n"
     ]
    }
   ],
   "source": [
    "print(ideal_loss)"
   ]
  }
 ],
 "metadata": {
  "kernelspec": {
   "display_name": "Python [conda env:tensorflow_p36]",
   "language": "python",
   "name": "conda-env-tensorflow_p36-py"
  },
  "language_info": {
   "codemirror_mode": {
    "name": "ipython",
    "version": 3
   },
   "file_extension": ".py",
   "mimetype": "text/x-python",
   "name": "python",
   "nbconvert_exporter": "python",
   "pygments_lexer": "ipython3",
   "version": "3.6.4"
  }
 },
 "nbformat": 4,
 "nbformat_minor": 2
}
