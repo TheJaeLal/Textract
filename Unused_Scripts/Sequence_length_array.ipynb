{
 "cells": [
  {
   "cell_type": "code",
   "execution_count": 1,
   "metadata": {},
   "outputs": [],
   "source": [
    "import numpy as np"
   ]
  },
  {
   "cell_type": "code",
   "execution_count": 2,
   "metadata": {},
   "outputs": [],
   "source": [
    "import joblib"
   ]
  },
  {
   "cell_type": "code",
   "execution_count": 3,
   "metadata": {},
   "outputs": [],
   "source": [
    "img_type = 'zombie'"
   ]
  },
  {
   "cell_type": "code",
   "execution_count": 4,
   "metadata": {},
   "outputs": [],
   "source": [
    "def get_int_list(filename):\n",
    "    content_list = open(filename).read().split('\\n')\n",
    "    content_list_ints= [int(list_elem) for list_elem in content_list]\n",
    "    return content_list_ints"
   ]
  },
  {
   "cell_type": "code",
   "execution_count": 5,
   "metadata": {},
   "outputs": [],
   "source": [
    "seq_lens = get_int_list('scaled_sorted_widths.txt')"
   ]
  },
  {
   "cell_type": "code",
   "execution_count": 6,
   "metadata": {},
   "outputs": [],
   "source": [
    "if img_type!='zombie':\n",
    "    indices = get_int_list(img_type[:2]+'_list_indices.txt')\n",
    "\n",
    "#If Zombie Image....\n",
    "else:\n",
    "    train_indices = get_int_list('tr_list_indices.txt')\n",
    "    test_indices = get_int_list('te_list_indices.txt')\n",
    "    valid_indices = get_int_list('va_list_indices.txt')\n",
    "\n",
    "    non_zombie_indices = set(train_indices + test_indices + valid_indices)\n",
    "    all_indices = list(range(0,13353))\n",
    "    \n",
    "    indices = [index for index in all_indices if index not in non_zombie_indices]"
   ]
  },
  {
   "cell_type": "code",
   "execution_count": 7,
   "metadata": {},
   "outputs": [
    {
     "name": "stdout",
     "output_type": "stream",
     "text": [
      "3311\n",
      "121\n"
     ]
    }
   ],
   "source": [
    "type_seq_lens = [seq_lens[index] for index in indices]\n",
    "type_seq_len_array = np.array(type_seq_lens)\n",
    "joblib.dump(type_seq_len_array,img_type+'_seq_lens',compress=True)\n",
    "print(len(type_seq_len_array))\n",
    "print(type_seq_len_array[0])"
   ]
  }
 ],
 "metadata": {
  "kernelspec": {
   "display_name": "Python [conda env:tensorflow_p36]",
   "language": "python",
   "name": "conda-env-tensorflow_p36-py"
  },
  "language_info": {
   "codemirror_mode": {
    "name": "ipython",
    "version": 3
   },
   "file_extension": ".py",
   "mimetype": "text/x-python",
   "name": "python",
   "nbconvert_exporter": "python",
   "pygments_lexer": "ipython3",
   "version": "3.6.4"
  }
 },
 "nbformat": 4,
 "nbformat_minor": 2
}
