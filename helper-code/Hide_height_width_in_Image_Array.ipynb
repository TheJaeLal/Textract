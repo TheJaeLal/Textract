{
 "cells": [
  {
   "cell_type": "code",
   "execution_count": 2,
   "metadata": {},
   "outputs": [],
   "source": [
    "import numpy as np\n",
    "import joblib\n",
    "import math"
   ]
  },
  {
   "cell_type": "code",
   "execution_count": 3,
   "metadata": {
    "collapsed": true
   },
   "outputs": [],
   "source": [
    "img_type = 'train'"
   ]
  },
  {
   "cell_type": "code",
   "execution_count": 4,
   "metadata": {
    "collapsed": true
   },
   "outputs": [],
   "source": [
    "array = joblib.load(\"../data/\"+img_type+\"_array\")"
   ]
  },
  {
   "cell_type": "code",
   "execution_count": 5,
   "metadata": {},
   "outputs": [
    {
     "data": {
      "text/plain": [
       "(6161, 114, 758, 3)"
      ]
     },
     "execution_count": 5,
     "metadata": {},
     "output_type": "execute_result"
    }
   ],
   "source": [
    "array.shape"
   ]
  },
  {
   "cell_type": "code",
   "execution_count": null,
   "metadata": {},
   "outputs": [],
   "source": [
    "array[0].shape"
   ]
  },
  {
   "cell_type": "code",
   "execution_count": null,
   "metadata": {
    "collapsed": true
   },
   "outputs": [],
   "source": [
    "def get_int_list(filename):\n",
    "    content_list = open(filename).read().split('\\n')\n",
    "    width_height_list = []\n",
    "    for content in content_list:\n",
    "        string_w,string_h = content.split(\", \")\n",
    "        w,h = int(string_w), int(string_h)\n",
    "        width_height_list.append([w,h])\n",
    "        \n",
    "    return width_height_list"
   ]
  },
  {
   "cell_type": "code",
   "execution_count": null,
   "metadata": {
    "collapsed": true
   },
   "outputs": [],
   "source": [
    "meta_data = get_int_list('scaled_sorted_heights_widths.txt')"
   ]
  },
  {
   "cell_type": "code",
   "execution_count": null,
   "metadata": {},
   "outputs": [],
   "source": [
    "len(meta_data)"
   ]
  },
  {
   "cell_type": "code",
   "execution_count": null,
   "metadata": {},
   "outputs": [],
   "source": [
    "len(array)"
   ]
  },
  {
   "cell_type": "code",
   "execution_count": null,
   "metadata": {
    "collapsed": true
   },
   "outputs": [],
   "source": [
    "new_array = np.zeros((6161,114,758,3))"
   ]
  },
  {
   "cell_type": "code",
   "execution_count": null,
   "metadata": {},
   "outputs": [],
   "source": [
    "meta_data[0]"
   ]
  },
  {
   "cell_type": "code",
   "execution_count": null,
   "metadata": {},
   "outputs": [],
   "source": [
    "(551+1)/754.0 * 255.0"
   ]
  },
  {
   "cell_type": "code",
   "execution_count": null,
   "metadata": {},
   "outputs": [],
   "source": [
    "for i in range(len(array)):\n",
    "    c2 = np.zeros_like(array[i])\n",
    "    c3 = np.zeros_like(array[i])\n",
    "    \n",
    "    width,height = meta_data[i]\n",
    "    \n",
    "    width = math.ceil(width/754.0 * 255.0)\n",
    "    \n",
    "    c2.fill(height)\n",
    "    \n",
    "    #print(\"height,width = \",height,width)\n",
    "    \n",
    "    c3.fill(width)\n",
    "    \n",
    "    #Order is pixel,width,height\n",
    "    new_array[i] = np.dstack((array[i],c2,c3))"
   ]
  },
  {
   "cell_type": "code",
   "execution_count": null,
   "metadata": {},
   "outputs": [],
   "source": [
    "new_array.shape"
   ]
  },
  {
   "cell_type": "code",
   "execution_count": null,
   "metadata": {},
   "outputs": [],
   "source": [
    "new_array[0].shape"
   ]
  },
  {
   "cell_type": "code",
   "execution_count": null,
   "metadata": {},
   "outputs": [],
   "source": [
    "new_array[0][0][0]"
   ]
  },
  {
   "cell_type": "code",
   "execution_count": null,
   "metadata": {},
   "outputs": [],
   "source": [
    "joblib.dump(new_array,\"../data/\"+img_type+\"_array\",compress=True)"
   ]
  },
  {
   "cell_type": "code",
   "execution_count": null,
   "metadata": {
    "collapsed": true
   },
   "outputs": [],
   "source": [
    "# [[[241,img_height,img_width]],[[15,0,0]],[[45,0,0]]],[[[241,0,0]],[[15,0,0]],[[45,0,0]]]\n",
    "\n",
    "#(2 x 3 x 1) --> (2 x 3 x 2)\n",
    "# (2 x 3 x 1)\n",
    "# (2 x 3 x 1) --> img_height\n",
    "# (2 x 3 x 1) --> img_width\n",
    "# --------------\n",
    "#     stack\n",
    "# --------------\n",
    "# (2 x 3 x 3)"
   ]
  },
  {
   "cell_type": "code",
   "execution_count": null,
   "metadata": {
    "collapsed": true
   },
   "outputs": [],
   "source": [
    "# if img_type!='zombie':\n",
    "#     indices = get_int_list(img_type[:2]+'_list_indices.txt')\n",
    "\n",
    "# #If Zombie Image....\n",
    "# else:\n",
    "#     train_indices = get_int_list('tr_list_indices.txt')\n",
    "#     test_indices = get_int_list('te_list_indices.txt')\n",
    "#     valid_indices = get_int_list('va_list_indices.txt')\n",
    "\n",
    "#     non_zombie_indices = set(train_indices + test_indices + valid_indices)\n",
    "#     all_indices = list(range(0,13353))\n",
    "    \n",
    "#     indices = [index for index in all_indices if index not in non_zombie_indices]"
   ]
  },
  {
   "cell_type": "code",
   "execution_count": null,
   "metadata": {},
   "outputs": [],
   "source": [
    "# type_seq_lens = [seq_lens[index] for index in indices]\n",
    "# type_seq_len_array = np.array(type_seq_lens)\n",
    "# joblib.dump(type_seq_len_array,img_type+'_seq_lens',compress=True)\n",
    "# print(len(type_seq_len_array))\n",
    "# print(type_seq_len_array[0])"
   ]
  }
 ],
 "metadata": {
  "kernelspec": {
   "display_name": "Python 3",
   "language": "python",
   "name": "python3"
  },
  "language_info": {
   "codemirror_mode": {
    "name": "ipython",
    "version": 3
   },
   "file_extension": ".py",
   "mimetype": "text/x-python",
   "name": "python",
   "nbconvert_exporter": "python",
   "pygments_lexer": "ipython3",
   "version": "3.6.5"
  }
 },
 "nbformat": 4,
 "nbformat_minor": 2
}
