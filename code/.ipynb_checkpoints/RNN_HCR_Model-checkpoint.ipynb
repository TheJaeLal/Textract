{
 "cells": [
  {
   "cell_type": "code",
   "execution_count": 1,
   "metadata": {},
   "outputs": [
    {
     "name": "stderr",
     "output_type": "stream",
     "text": [
      "/home/james/anaconda3/lib/python3.6/site-packages/h5py/__init__.py:36: FutureWarning: Conversion of the second argument of issubdtype from `float` to `np.floating` is deprecated. In future, it will be treated as `np.float64 == np.dtype(float).type`.\n",
      "  from ._conv import register_converters as _register_converters\n"
     ]
    }
   ],
   "source": [
    "from helper import *\n",
    "import tensorflow as tf\n",
    "import numpy as np\n",
    "import matplotlib.pyplot as plt\n",
    "import shelve\n",
    "import joblib\n",
    "import random\n",
    "\n",
    "%matplotlib inline\n",
    "\n",
    "with shelve.open('shelved_data/IAM_Data') as shelf:\n",
    "    vocabulary = shelf['chars']\n",
    "    list_of_images = shelf['list_of_images']\n",
    "    image_labels = shelf['image_labels']\n",
    "    \n",
    "image_arrays = joblib.load('shelved_data/image_arrays')\n"
   ]
  },
  {
   "cell_type": "code",
   "execution_count": 2,
   "metadata": {},
   "outputs": [],
   "source": [
    "#List_images ko sort karo\n",
    "list_of_images.sort()\n",
    "\n",
    "#Convert vocabulary to list\n",
    "vocabulary = list(vocabulary)\n",
    "#Sort so as to have the same ordering every time..\n",
    "vocabulary.sort()\n",
    "vocabulary.append(\"<Blank>\")\n",
    "\n",
    "#Model parameters\n",
    "hidden_units = 200\n",
    "num_of_features = 310\n",
    "vocab_size = len(vocabulary)\n",
    "\n",
    "#batch_size = 5\n",
    "\n",
    "#Hyper Parameters\n",
    "alpha = 0.00001\n",
    "epochs = 50\n",
    "\n",
    "losses = []\n",
    "\n",
    "# first_image = list_of_images[0]\n",
    "# label  = image_labels[first_image]\n",
    "# nparray = image_arrays[first_image]\n",
    "# one_hot_target = one_hot(label,vocabulary)"
   ]
  },
  {
   "cell_type": "code",
   "execution_count": 3,
   "metadata": {},
   "outputs": [],
   "source": [
    "#encode_int(label,vocabulary)"
   ]
  },
  {
   "cell_type": "code",
   "execution_count": 4,
   "metadata": {},
   "outputs": [],
   "source": [
    "def sparse_tuple_from(sequences, dtype=np.int32):\n",
    "    \"\"\"Create a sparse representention of x.\n",
    "    Args:\n",
    "        sequences: a list of lists of type dtype where each element is a sequence\n",
    "    Returns:\n",
    "        A tuple with (indices, values, shape)\n",
    "    \"\"\"\n",
    "    indices = []\n",
    "    values = []\n",
    "\n",
    "    for n, seq in enumerate(sequences):\n",
    "        indices.extend(zip([n] * len(seq), range(len(seq))))\n",
    "        values.extend(seq)\n",
    "\n",
    "    indices = np.asarray(indices, dtype=np.int64)\n",
    "    values = np.asarray(values, dtype=dtype)\n",
    "    shape = np.asarray([len(sequences), np.asarray(indices).max(0)[1] + 1], dtype=np.int64)\n",
    "\n",
    "    return indices, values, shape"
   ]
  },
  {
   "cell_type": "markdown",
   "metadata": {},
   "source": [
    "# RNN Model"
   ]
  },
  {
   "cell_type": "code",
   "execution_count": null,
   "metadata": {},
   "outputs": [],
   "source": [
    "# Inputs and labels\n",
    "X = tf.placeholder(tf.float32, [None, None, num_of_features])\n",
    "\n",
    "targets = tf.sparse_placeholder(tf.int32)\n",
    "\n",
    "seq_len = tf.placeholder(tf.int32,[None])\n",
    "\n",
    "\n",
    "# RNN Cell\n",
    "cell_hidden = tf.contrib.rnn.LSTMCell(hidden_units,num_proj = vocab_size)\n",
    "outputs,states = tf.nn.dynamic_rnn(cell_hidden,X,seq_len,dtype=tf.float32)\n",
    "\n",
    "\n",
    "# shape = tf.shape(X)\n",
    "# batch_s , max_time_steps = shape[0], shape[1]\n",
    "\n",
    "# # Reshaping to apply the same weights over the timesteps\n",
    "# outputs = tf.reshape(outputs, [-1, hidden_units])\n",
    "\n",
    "# # Truncated normal with mean 0 and stdev=0.1\n",
    "# # Tip: Try another initialization\n",
    "# # see https://www.tensorflow.org/versions/r0.9/api_docs/python/contrib.layers.html#initializers\n",
    "# W = tf.Variable(tf.truncated_normal([hidden_units,\n",
    "#                                      vocab_size],\n",
    "#                                     stddev=0.1))\n",
    "# # Zero initialization\n",
    "# # Tip: Is tf.zeros_initializer the same?\n",
    "# b = tf.Variable(tf.constant(0., shape=[vocab_size]))\n",
    "\n",
    "# # Doing the affine projection\n",
    "# logits = tf.matmul(outputs, W) + b\n",
    "\n",
    "# # Reshaping back to the original shape\n",
    "# logits = tf.reshape(logits, [batch_s, -1, vocab_size])\n",
    "\n",
    "# Time major\n",
    "logits = tf.transpose(outputs, (1, 0, 2))\n",
    "\n",
    "#Calculate loss\n",
    "loss = tf.nn.ctc_loss(targets, logits, seq_len)\n",
    "cost = tf.reduce_mean(loss)\n",
    "\n",
    "#Optimize\n",
    "optimizer = tf.train.AdamOptimizer(learning_rate=alpha)\n",
    "train = optimizer.minimize(loss)\n",
    "\n",
    "# CTC decoder.\n",
    "decoded, log_prob = tf.nn.ctc_greedy_decoder(logits, seq_len)\n",
    "\n",
    "label_error_rate = tf.reduce_mean(tf.edit_distance(tf.cast(decoded[0], tf.int32),\n",
    "                                                   targets))\n"
   ]
  },
  {
   "cell_type": "markdown",
   "metadata": {},
   "source": [
    "## Save my MoDel"
   ]
  },
  {
   "cell_type": "code",
   "execution_count": null,
   "metadata": {},
   "outputs": [
    {
     "name": "stdout",
     "output_type": "stream",
     "text": [
      "Epoch 0: cost = 817.2168579101562 ler = 3.6666667461395264\n",
      "Epoch 1: cost = 688.837158203125 ler = 3.0\n"
     ]
    }
   ],
   "source": [
    "losses = [] \n",
    "outputs = []\n",
    "\n",
    "saver = tf.train.Saver()\n",
    "\n",
    "#Take first 52 images\n",
    "training_list = list_of_images[:52]\n",
    "\n",
    "random.seed(100)\n",
    "random.shuffle(training_list)\n",
    "\n",
    "batches_x = [image_arrays[training_list[i]].T / 255.0 for i in range(len(training_list))]\n",
    "\n",
    "batches_y = [     \n",
    "                sparse_tuple_from ([\n",
    "                                                encode_int(\n",
    "                                                            image_labels[training_list[i-1]],vocabulary\n",
    "                                                       )\n",
    "                    \n",
    "                        \n",
    "                                    ] ) for i in range(len(training_list))\n",
    "    \n",
    "            ]\n",
    "\n",
    "    \n",
    "with tf.Session() as sess:\n",
    "    sess.run(tf.global_variables_initializer())\n",
    "    \n",
    "    for e in range(epochs): \n",
    "\n",
    "        #Iterate through all images in a single epoch...\n",
    "        for b in range(len(batches_x)):\n",
    "                \n",
    "            #Before feeding x reshape it as (1,original_dims...), i.e make it 3D\n",
    "                       \n",
    "            feed = {X:batches_x[b].reshape(1,batches_x[b].shape[0],batches_x[b].shape[1]),targets:batches_y[b],seq_len:[batches_x[b].shape[0]]}\n",
    "\n",
    "            sess.run(train,feed_dict=feed)\n",
    "\n",
    "        if e % 1 == 0:\n",
    "            cost_val,ler_val = sess.run([cost,label_error_rate], feed_dict=feed)\n",
    "            print(\"Epoch {0}: cost = {1} ler = {2}\".format(e,cost_val,ler_val))\n",
    "            losses.append(cost)\n",
    "\n",
    "        #d = sess.run(decoded[0], feed_dict=feed)\n",
    "        #outputs.append(d)\n",
    "            \n",
    "    saver.save(sess,'./Word_RNN.ckpt')\n",
    "\n",
    "plt.plot(list(range(len(losses))),losses)\n",
    "plt.xlabel('Epochs')\n",
    "plt.ylabel('Loss')"
   ]
  },
  {
   "cell_type": "code",
   "execution_count": null,
   "metadata": {},
   "outputs": [],
   "source": []
  },
  {
   "cell_type": "code",
   "execution_count": null,
   "metadata": {},
   "outputs": [],
   "source": [
    "#vocab_size"
   ]
  },
  {
   "cell_type": "code",
   "execution_count": null,
   "metadata": {},
   "outputs": [],
   "source": [
    "#np.array()"
   ]
  },
  {
   "cell_type": "markdown",
   "metadata": {},
   "source": [
    "## Predict using Model"
   ]
  },
  {
   "cell_type": "code",
   "execution_count": null,
   "metadata": {},
   "outputs": [],
   "source": [
    "# with tf.Session() as sess:\n",
    "#     saver = tf.train.import_meta_graph('Basic_RNN_TF_API.ckpt.meta')\n",
    "#     saver.restore(sess, './Basic_RNN_TF_API.ckpt')\n",
    "\n",
    "#     X = sess.graph.get_tensor_by_name('Placeholder:0')\n",
    "    \n",
    "#     for _ in range(30): \n",
    "#         y_pred = sess.run('rnn/transpose:0', feed_dict={X: X_new})\n",
    "#         #print(y_pred)\n",
    "#         #print(y_pred.shape)\n",
    "#         content += interpret(y_pred,vocabulary)\n",
    "#         X_new = y_pred\n",
    "        \n",
    "# print(content)"
   ]
  },
  {
   "cell_type": "code",
   "execution_count": null,
   "metadata": {},
   "outputs": [],
   "source": []
  }
 ],
 "metadata": {
  "kernelspec": {
   "display_name": "Python [default]",
   "language": "python",
   "name": "python3"
  },
  "language_info": {
   "codemirror_mode": {
    "name": "ipython",
    "version": 3
   },
   "file_extension": ".py",
   "mimetype": "text/x-python",
   "name": "python",
   "nbconvert_exporter": "python",
   "pygments_lexer": "ipython3",
   "version": "3.6.3"
  }
 },
 "nbformat": 4,
 "nbformat_minor": 2
}
