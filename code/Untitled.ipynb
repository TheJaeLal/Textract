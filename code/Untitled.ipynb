{
 "cells": [
  {
   "cell_type": "code",
   "execution_count": 1,
   "metadata": {},
   "outputs": [],
   "source": [
    "import numpy as np"
   ]
  },
  {
   "cell_type": "code",
   "execution_count": 27,
   "metadata": {},
   "outputs": [],
   "source": [
    "with np.load('668_fcouts2bn.npz') as data:\n",
    "    fc_outputs_bn = data['a']"
   ]
  },
  {
   "cell_type": "code",
   "execution_count": 28,
   "metadata": {},
   "outputs": [
    {
     "data": {
      "text/plain": [
       "array([[ 1.50296   , -4.6860204 , -0.5281576 , ..., -1.4103833 ,\n",
       "        -3.8243282 ,  4.549153  ],\n",
       "       [ 1.8172481 , -5.0589547 , -1.5959735 , ..., -1.461801  ,\n",
       "        -3.7361681 ,  4.7507315 ],\n",
       "       [ 1.6635867 , -4.58092   , -3.1044178 , ..., -0.9831949 ,\n",
       "        -3.2436852 ,  5.0293465 ],\n",
       "       ...,\n",
       "       [ 5.478836  , -2.9279718 , -0.69956017, ..., -0.1818415 ,\n",
       "        -4.1214995 ,  4.8045154 ],\n",
       "       [ 5.412697  , -4.238286  , -2.4559917 , ..., -2.4418213 ,\n",
       "        -5.4521437 ,  3.807002  ],\n",
       "       [ 7.0267467 , -9.581492  ,  0.09646797, ..., -4.249457  ,\n",
       "        -8.991892  ,  7.2680902 ]], dtype=float32)"
      ]
     },
     "execution_count": 28,
     "metadata": {},
     "output_type": "execute_result"
    }
   ],
   "source": [
    "fc_outputs_bn"
   ]
  },
  {
   "cell_type": "code",
   "execution_count": 29,
   "metadata": {},
   "outputs": [
    {
     "data": {
      "text/plain": [
       "array([0.9999996 , 0.99999964, 0.99999815, 0.9999973 , 0.9999979 ,\n",
       "       0.9999985 , 0.9999991 , 0.99999684, 0.9999962 , 0.99999803,\n",
       "       0.9999995 , 1.0000014 , 1.0000005 , 0.99999714, 0.9999973 ,\n",
       "       0.9999978 , 0.9999957 , 0.9999981 , 0.999998  , 0.99999666,\n",
       "       0.99999774, 0.9999975 , 0.9999962 , 0.9999978 , 0.9999996 ,\n",
       "       0.99999535, 0.99999964, 0.9999986 , 0.99999475, 0.99999845,\n",
       "       0.99999744, 0.99999857, 0.9999973 , 0.9999972 , 0.9999968 ,\n",
       "       0.99999845, 0.99999905, 0.99999875, 0.99999607, 0.9999975 ,\n",
       "       0.999998  , 0.999998  , 0.9999983 , 0.9999979 , 0.999999  ,\n",
       "       0.9999991 , 0.9999966 , 1.0000002 , 0.99999946, 0.9999979 ,\n",
       "       0.99999744, 0.99999785, 0.9999981 , 0.9999965 , 0.9999945 ,\n",
       "       0.99999964, 0.9999979 , 0.999998  , 0.99999857, 0.9999946 ,\n",
       "       0.99999684, 0.99999684, 0.9999993 , 0.99999726, 0.99999636,\n",
       "       0.999999  , 0.99999917, 0.9999958 , 0.9999957 , 0.9999999 ,\n",
       "       1.000001  , 0.9999973 , 0.9999948 , 0.99999976, 1.0000018 ,\n",
       "       0.9999989 , 0.9999963 , 0.9999984 , 0.9999975 , 0.999996  ],\n",
       "      dtype=float32)"
      ]
     },
     "execution_count": 29,
     "metadata": {},
     "output_type": "execute_result"
    }
   ],
   "source": [
    "fc_outputs_bn.std(axis=0)"
   ]
  },
  {
   "cell_type": "code",
   "execution_count": null,
   "metadata": {},
   "outputs": [],
   "source": []
  }
 ],
 "metadata": {
  "kernelspec": {
   "display_name": "Python [conda env:tensorflow_p36]",
   "language": "python",
   "name": "conda-env-tensorflow_p36-py"
  },
  "language_info": {
   "codemirror_mode": {
    "name": "ipython",
    "version": 3
   },
   "file_extension": ".py",
   "mimetype": "text/x-python",
   "name": "python",
   "nbconvert_exporter": "python",
   "pygments_lexer": "ipython3",
   "version": "3.6.4"
  }
 },
 "nbformat": 4,
 "nbformat_minor": 2
}
