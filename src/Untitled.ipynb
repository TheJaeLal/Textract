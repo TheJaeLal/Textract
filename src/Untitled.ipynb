{
 "cells": [
  {
   "cell_type": "code",
   "execution_count": 1,
   "metadata": {},
   "outputs": [
    {
     "name": "stderr",
     "output_type": "stream",
     "text": [
      "/home/ubuntu/anaconda3/envs/tensorflow_p36/lib/python3.6/site-packages/h5py/__init__.py:36: FutureWarning: Conversion of the second argument of issubdtype from `float` to `np.floating` is deprecated. In future, it will be treated as `np.float64 == np.dtype(float).type`.\n",
      "  from ._conv import register_converters as _register_converters\n",
      "/home/ubuntu/anaconda3/envs/tensorflow_p36/lib/python3.6/site-packages/matplotlib/__init__.py:1067: UserWarning: Duplicate key in file \"/home/ubuntu/.config/matplotlib/matplotlibrc\", line #2\n",
      "  (fname, cnt))\n",
      "/home/ubuntu/anaconda3/envs/tensorflow_p36/lib/python3.6/site-packages/matplotlib/__init__.py:1067: UserWarning: Duplicate key in file \"/home/ubuntu/.config/matplotlib/matplotlibrc\", line #3\n",
      "  (fname, cnt))\n"
     ]
    }
   ],
   "source": [
    "import learning_rate\n",
    "# import matplotlib.pyplot as plt"
   ]
  },
  {
   "cell_type": "code",
   "execution_count": 2,
   "metadata": {},
   "outputs": [
    {
     "name": "stdout",
     "output_type": "stream",
     "text": [
      "++Conv layer info info:\n",
      "Num_filters =  16\n",
      "Kernel_size =  3\n",
      "Strides =  1\n",
      "activation =  leaky_relu\n",
      "is_training =  Tensor(\"Placeholder_1:0\", shape=(), dtype=bool)\n",
      "dropout =  Tensor(\"Placeholder_2:0\", shape=(), dtype=float32)\n",
      "++Conv layer info info:\n",
      "Num_filters =  32\n",
      "Kernel_size =  3\n",
      "Strides =  2\n",
      "activation =  leaky_relu\n",
      "is_training =  Tensor(\"Placeholder_1:0\", shape=(), dtype=bool)\n",
      "dropout =  Tensor(\"Placeholder_2:0\", shape=(), dtype=float32)\n",
      "++Conv layer info info:\n",
      "Num_filters =  32\n",
      "Kernel_size =  3\n",
      "Strides =  1\n",
      "activation =  leaky_relu\n",
      "is_training =  Tensor(\"Placeholder_1:0\", shape=(), dtype=bool)\n",
      "dropout =  Tensor(\"Placeholder_2:0\", shape=(), dtype=float32)\n",
      "--Max_pool info:\n",
      "Strides =  2\n",
      "++Conv layer info info:\n",
      "Num_filters =  64\n",
      "Kernel_size =  3\n",
      "Strides =  2\n",
      "activation =  leaky_relu\n",
      "is_training =  Tensor(\"Placeholder_1:0\", shape=(), dtype=bool)\n",
      "dropout =  Tensor(\"Placeholder_2:0\", shape=(), dtype=float32)\n",
      "++Conv layer info info:\n",
      "Num_filters =  128\n",
      "Kernel_size =  3\n",
      "Strides =  2\n",
      "activation =  leaky_relu\n",
      "is_training =  Tensor(\"Placeholder_1:0\", shape=(), dtype=bool)\n",
      "dropout =  Tensor(\"Placeholder_2:0\", shape=(), dtype=float32)\n",
      "++Conv layer info info:\n",
      "Num_filters =  256\n",
      "Kernel_size =  3\n",
      "Strides =  1\n",
      "activation =  leaky_relu\n",
      "is_training =  Tensor(\"Placeholder_1:0\", shape=(), dtype=bool)\n",
      "dropout =  Tensor(\"Placeholder_2:0\", shape=(), dtype=float32)\n",
      "--Max_pool info:\n",
      "Strides =  2\n",
      "Convolution_Output_size:(4,22)\n",
      "LSTM_Output_size:(Tensor(\"Print_6:0\", shape=(?, 256, 256), dtype=float32),Tensor(\"Print_7:0\", shape=(?, 256, 256), dtype=float32))\n",
      "**Fully connected info:\n",
      "units =  160\n",
      "activation =  leaky_relu\n",
      "is_training =  Tensor(\"Placeholder_1:0\", shape=(), dtype=bool)\n",
      "dropout =  Tensor(\"Placeholder_4:0\", shape=(), dtype=float32)\n",
      "**Fully connected info:\n",
      "units =  80\n",
      "activation =  None\n",
      "is_training =  Tensor(\"Placeholder_1:0\", shape=(), dtype=bool)\n",
      "dropout =  Tensor(\"Placeholder_4:0\", shape=(), dtype=float32)\n"
     ]
    }
   ],
   "source": [
    "losses,learn_rates = learning_rate.find(1e-5,100,10)"
   ]
  },
  {
   "cell_type": "code",
   "execution_count": 3,
   "metadata": {},
   "outputs": [
    {
     "name": "stdout",
     "output_type": "stream",
     "text": [
      "[946.5871, 949.13354, 944.3324, 931.01154, 502.6112, 2002.8335, inf, inf]\n"
     ]
    }
   ],
   "source": [
    "print(losses)"
   ]
  },
  {
   "cell_type": "code",
   "execution_count": 4,
   "metadata": {},
   "outputs": [],
   "source": [
    "min_loss = 1e5\n",
    "min_loss_i = 0\n",
    "for i in range(len(losses)):\n",
    "    if losses[i] < min_loss:\n",
    "        min_loss = losses[i]\n",
    "        min_loss_i = i\n",
    "\n",
    "best_learn_rate = learn_rates[max(0,min_loss_i-1)]"
   ]
  },
  {
   "cell_type": "code",
   "execution_count": 5,
   "metadata": {},
   "outputs": [
    {
     "name": "stdout",
     "output_type": "stream",
     "text": [
      "0.01\n"
     ]
    }
   ],
   "source": [
    "print(best_learn_rate)"
   ]
  },
  {
   "cell_type": "code",
   "execution_count": 6,
   "metadata": {},
   "outputs": [],
   "source": [
    "ideal_loss = losses[max(0,min_loss_i-1)]"
   ]
  },
  {
   "cell_type": "code",
   "execution_count": 7,
   "metadata": {},
   "outputs": [
    {
     "name": "stdout",
     "output_type": "stream",
     "text": [
      "931.01154\n"
     ]
    }
   ],
   "source": [
    "print(ideal_loss)"
   ]
  }
 ],
 "metadata": {
  "kernelspec": {
   "display_name": "Python [conda env:tensorflow_p36]",
   "language": "python",
   "name": "conda-env-tensorflow_p36-py"
  },
  "language_info": {
   "codemirror_mode": {
    "name": "ipython",
    "version": 3
   },
   "file_extension": ".py",
   "mimetype": "text/x-python",
   "name": "python",
   "nbconvert_exporter": "python",
   "pygments_lexer": "ipython3",
   "version": "3.6.4"
  }
 },
 "nbformat": 4,
 "nbformat_minor": 2
}
