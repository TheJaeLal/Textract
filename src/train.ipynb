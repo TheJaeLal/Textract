{
 "cells": [
  {
   "cell_type": "code",
   "execution_count": null,
   "metadata": {
    "collapsed": true
   },
   "outputs": [],
   "source": [
    "import model\n",
    "from Augment import train_datagen\n",
    "import joblib\n",
    "import shelve\n",
    "import tensorflow as tf\n",
    "import time\n",
    "from math import ceil\n",
    "from config import vocabulary,batch_size,n_epochs,resume_epoch,save_epoch\n",
    "import helper\n",
    "import matplotlib.pyplot as plt\n",
    "import numpy as np"
   ]
  },
  {
   "cell_type": "code",
   "execution_count": null,
   "metadata": {
    "collapsed": true
   },
   "outputs": [],
   "source": [
    "mount_point = '../'"
   ]
  },
  {
   "cell_type": "code",
   "execution_count": null,
   "metadata": {
    "collapsed": true
   },
   "outputs": [],
   "source": [
    "with shelve.open(mount_point+'IAM_Data','c') as shelf:\n",
    "    train_label = shelf['train_label']"
   ]
  },
  {
   "cell_type": "code",
   "execution_count": null,
   "metadata": {
    "collapsed": true
   },
   "outputs": [],
   "source": [
    "train_array = joblib.load(mount_point+'data/train_array')"
   ]
  },
  {
   "cell_type": "code",
   "execution_count": null,
   "metadata": {},
   "outputs": [],
   "source": [
    "graph,dropout_conv,dropout_lstm,dropout_fc,inputs,time_steps,targets,loss,train,decoded,label_error_rate,seq_len = model.model()"
   ]
  },
  {
   "cell_type": "code",
   "execution_count": null,
   "metadata": {
    "collapsed": true
   },
   "outputs": [],
   "source": [
    "!rm -rf ../Augmented/*"
   ]
  },
  {
   "cell_type": "code",
   "execution_count": null,
   "metadata": {},
   "outputs": [],
   "source": [
    "train_generator = train_datagen.flow(train_array,train_label,batch_size,save_to_dir=mount_point+'Augmented',save_prefix='transformed')"
   ]
  },
  {
   "cell_type": "code",
   "execution_count": null,
   "metadata": {
    "collapsed": true
   },
   "outputs": [],
   "source": [
    "num_training_samples = train_array.shape[0]"
   ]
  },
  {
   "cell_type": "code",
   "execution_count": null,
   "metadata": {
    "collapsed": true
   },
   "outputs": [],
   "source": [
    "num_batches = int(ceil(num_training_samples/batch_size))"
   ]
  },
  {
   "cell_type": "code",
   "execution_count": null,
   "metadata": {},
   "outputs": [],
   "source": [
    "with tf.Session(graph = graph) as sess:\n",
    "        \n",
    "    saver = tf.train.Saver(max_to_keep=None)\n",
    "    \n",
    "    sess.run(tf.global_variables_initializer())\n",
    "    checkpoint = False\n",
    "    timer  = 0\n",
    "\n",
    "    #Resume training from resume_epoch\n",
    "    if resume_epoch != 0:\n",
    "        saver.restore(sess, mount_point+'saved_models/cnn_lstm_fc_'+str(resume_epoch))\n",
    "    \n",
    "    #Epoch Loop\n",
    "    for e in range(resume_epoch,n_epochs):\n",
    "        start_time = time.time()\n",
    "        \n",
    "        if (e%1)==0:\n",
    "            checkpoint = True\n",
    "        \n",
    "        total_cost = 0.0\n",
    "        total_ler = 0.0    \n",
    "    \n",
    "        count = 0\n",
    "        \n",
    "        #Mini Batch loop\n",
    "        for x,y in train_generator:\n",
    "            \n",
    "            actual_batch_size = x.shape[0]\n",
    "            \n",
    "            if count == num_batches:\n",
    "                count = 0\n",
    "                break\n",
    "\n",
    "            sparse_y = helper._batch_y(y,vocabulary)\n",
    "\n",
    "            feed_train = {\n",
    "                         inputs:x,targets:sparse_y,\n",
    "                         time_steps:np.array([seq_len]*actual_batch_size),\n",
    "                         dropout_conv:0.5,dropout_fc:0.5,dropout_lstm:0.5,\n",
    "                    }\n",
    "            \n",
    "            _,cost_val,train_ler_val = sess.run([train,loss,label_error_rate],feed_dict= feed_train)\n",
    "\n",
    "            print(cost_val,train_ler_val)\n",
    "            \n",
    "            total_cost += cost_val\n",
    "            total_ler += train_ler_val\n",
    "\n",
    "            count+=1\n",
    "            \n",
    "        if (e%save_epoch)==0:\n",
    "            \n",
    "            #Save the model\n",
    "            saver.save(sess,mount_point+'saved_models/cnn_lstm_fc_'+str(e))\n",
    "        \n",
    "        \n",
    "#         if checkpoint:\n",
    "            \n",
    "#             end_time = time.time()\n",
    "#             time_taken = end_time - start_time\n",
    "#             timer += time_taken\n",
    "\n",
    "#             print(total_cost,total_ler)        "
   ]
  },
  {
   "cell_type": "code",
   "execution_count": null,
   "metadata": {
    "collapsed": true
   },
   "outputs": [],
   "source": [
    "%matplotlib inline"
   ]
  },
  {
   "cell_type": "code",
   "execution_count": null,
   "metadata": {
    "collapsed": true
   },
   "outputs": [],
   "source": [
    "# img = train_array[0].reshape(train_array[0].shape[:2])"
   ]
  },
  {
   "cell_type": "code",
   "execution_count": null,
   "metadata": {
    "collapsed": true
   },
   "outputs": [],
   "source": [
    "# plt.imshow(img,cmap='gray')"
   ]
  },
  {
   "cell_type": "code",
   "execution_count": null,
   "metadata": {
    "collapsed": true
   },
   "outputs": [],
   "source": [
    "# train_label[0]"
   ]
  },
  {
   "cell_type": "code",
   "execution_count": null,
   "metadata": {
    "collapsed": true
   },
   "outputs": [],
   "source": []
  }
 ],
 "metadata": {
  "kernelspec": {
   "display_name": "Python 3",
   "language": "python",
   "name": "python3"
  },
  "language_info": {
   "codemirror_mode": {
    "name": "ipython",
    "version": 3
   },
   "file_extension": ".py",
   "mimetype": "text/x-python",
   "name": "python",
   "nbconvert_exporter": "python",
   "pygments_lexer": "ipython3",
   "version": "3.6.2"
  }
 },
 "nbformat": 4,
 "nbformat_minor": 2
}
