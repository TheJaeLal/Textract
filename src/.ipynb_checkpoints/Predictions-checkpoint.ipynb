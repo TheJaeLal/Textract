{
 "cells": [
  {
   "cell_type": "code",
   "execution_count": 2,
   "metadata": {},
   "outputs": [],
   "source": [
    "import tensorflow as tf\n",
    "import numpy as np\n",
    "import shelve\n",
    "import joblib\n",
    "from math import ceil\n",
    "import time\n",
    "import layers\n",
    "import model\n",
    "from Augment import valid_datagen\n",
    "import helper\n",
    "from test_config import vocabulary,test_batch_size,mount_point\n",
    "from Arch import CNN"
   ]
  },
  {
   "cell_type": "code",
   "execution_count": 11,
   "metadata": {},
   "outputs": [],
   "source": [
    "with shelve.open(mount_point+'IAM_Data','c') as shelf:\n",
    "    valid_label = shelf['valid_label']\n",
    "\n",
    "valid_array = joblib.load(mount_point+'data/valid_array')"
   ]
  },
  {
   "cell_type": "code",
   "execution_count": 12,
   "metadata": {},
   "outputs": [
    {
     "name": "stdout",
     "output_type": "stream",
     "text": [
      "++Conv layer info info:\n",
      "Num_filters =  64\n",
      "Kernel_size =  3\n",
      "Strides =  1\n",
      "activation =  leaky_relu\n",
      "is_training =  Tensor(\"Placeholder:0\", dtype=bool)\n",
      "dropout =  Tensor(\"strided_slice:0\", shape=(), dtype=float32)\n",
      "--Max_pool info:\n",
      "Strides =  (3, 2)\n",
      "++Conv layer info info:\n",
      "Num_filters =  128\n",
      "Kernel_size =  3\n",
      "Strides =  1\n",
      "activation =  leaky_relu\n",
      "is_training =  Tensor(\"Placeholder:0\", dtype=bool)\n",
      "dropout =  Tensor(\"strided_slice_1:0\", shape=(), dtype=float32)\n",
      "--Max_pool info:\n",
      "Strides =  (3, 2)\n",
      "++Conv layer info info:\n",
      "Num_filters =  256\n",
      "Kernel_size =  3\n",
      "Strides =  1\n",
      "activation =  leaky_relu\n",
      "is_training =  Tensor(\"Placeholder:0\", dtype=bool)\n",
      "dropout =  Tensor(\"strided_slice_2:0\", shape=(), dtype=float32)\n",
      "++Conv layer info info:\n",
      "Num_filters =  256\n",
      "Kernel_size =  3\n",
      "Strides =  1\n",
      "activation =  leaky_relu\n",
      "is_training =  Tensor(\"Placeholder:0\", dtype=bool)\n",
      "dropout =  Tensor(\"strided_slice_3:0\", shape=(), dtype=float32)\n",
      "--Max_pool info:\n",
      "Strides =  (3, 1)\n",
      "++Conv layer info info:\n",
      "Num_filters =  512\n",
      "Kernel_size =  3\n",
      "Strides =  1\n",
      "activation =  leaky_relu\n",
      "is_training =  Tensor(\"Placeholder:0\", dtype=bool)\n",
      "dropout =  Tensor(\"strided_slice_4:0\", shape=(), dtype=float32)\n",
      "++Conv layer info info:\n",
      "Num_filters =  512\n",
      "Kernel_size =  3\n",
      "Strides =  1\n",
      "activation =  leaky_relu\n",
      "is_training =  Tensor(\"Placeholder:0\", dtype=bool)\n",
      "dropout =  Tensor(\"strided_slice_5:0\", shape=(), dtype=float32)\n",
      "--Max_pool info:\n",
      "Strides =  (3, 1)\n",
      "++Conv layer info info:\n",
      "Num_filters =  512\n",
      "Kernel_size =  2\n",
      "Strides =  1\n",
      "activation =  leaky_relu\n",
      "is_training =  Tensor(\"Placeholder:0\", dtype=bool)\n",
      "dropout =  Tensor(\"strided_slice_6:0\", shape=(), dtype=float32)\n",
      "Convolution_Output_size:(1,189)\n",
      "LSTM_Output_size: (?, 189, 512)\n",
      "**Fully connected info:\n",
      "units =  80\n",
      "activation =  None\n",
      "is_training =  Tensor(\"Placeholder:0\", dtype=bool)\n",
      "dropout =  Tensor(\"Placeholder_3:0\", dtype=float32)\n",
      "INFO:tensorflow:Summary name conv2d/kernel:0-grad is illegal; using conv2d/kernel_0-grad instead.\n",
      "INFO:tensorflow:Summary name conv2d/bias:0-grad is illegal; using conv2d/bias_0-grad instead.\n",
      "INFO:tensorflow:Summary name conv2d_1/kernel:0-grad is illegal; using conv2d_1/kernel_0-grad instead.\n",
      "INFO:tensorflow:Summary name conv2d_1/bias:0-grad is illegal; using conv2d_1/bias_0-grad instead.\n",
      "INFO:tensorflow:Summary name conv2d_2/kernel:0-grad is illegal; using conv2d_2/kernel_0-grad instead.\n",
      "INFO:tensorflow:Summary name conv2d_2/bias:0-grad is illegal; using conv2d_2/bias_0-grad instead.\n",
      "INFO:tensorflow:Summary name conv2d_3/kernel:0-grad is illegal; using conv2d_3/kernel_0-grad instead.\n",
      "INFO:tensorflow:Summary name conv2d_3/bias:0-grad is illegal; using conv2d_3/bias_0-grad instead.\n",
      "INFO:tensorflow:Summary name conv2d_4/kernel:0-grad is illegal; using conv2d_4/kernel_0-grad instead.\n",
      "INFO:tensorflow:Summary name batch_normalization/gamma:0-grad is illegal; using batch_normalization/gamma_0-grad instead.\n",
      "INFO:tensorflow:Summary name batch_normalization/beta:0-grad is illegal; using batch_normalization/beta_0-grad instead.\n",
      "INFO:tensorflow:Summary name conv2d_5/kernel:0-grad is illegal; using conv2d_5/kernel_0-grad instead.\n",
      "INFO:tensorflow:Summary name batch_normalization_1/gamma:0-grad is illegal; using batch_normalization_1/gamma_0-grad instead.\n",
      "INFO:tensorflow:Summary name batch_normalization_1/beta:0-grad is illegal; using batch_normalization_1/beta_0-grad instead.\n",
      "INFO:tensorflow:Summary name conv2d_6/kernel:0-grad is illegal; using conv2d_6/kernel_0-grad instead.\n",
      "INFO:tensorflow:Summary name conv2d_6/bias:0-grad is illegal; using conv2d_6/bias_0-grad instead.\n",
      "INFO:tensorflow:Summary name stack_bidirectional_rnn/cell_0/bidirectional_rnn/fw/lstm_cell/kernel:0-grad is illegal; using stack_bidirectional_rnn/cell_0/bidirectional_rnn/fw/lstm_cell/kernel_0-grad instead.\n",
      "INFO:tensorflow:Summary name stack_bidirectional_rnn/cell_0/bidirectional_rnn/fw/lstm_cell/bias:0-grad is illegal; using stack_bidirectional_rnn/cell_0/bidirectional_rnn/fw/lstm_cell/bias_0-grad instead.\n",
      "INFO:tensorflow:Summary name stack_bidirectional_rnn/cell_0/bidirectional_rnn/bw/lstm_cell/kernel:0-grad is illegal; using stack_bidirectional_rnn/cell_0/bidirectional_rnn/bw/lstm_cell/kernel_0-grad instead.\n",
      "INFO:tensorflow:Summary name stack_bidirectional_rnn/cell_0/bidirectional_rnn/bw/lstm_cell/bias:0-grad is illegal; using stack_bidirectional_rnn/cell_0/bidirectional_rnn/bw/lstm_cell/bias_0-grad instead.\n",
      "INFO:tensorflow:Summary name stack_bidirectional_rnn/cell_1/bidirectional_rnn/fw/lstm_cell/kernel:0-grad is illegal; using stack_bidirectional_rnn/cell_1/bidirectional_rnn/fw/lstm_cell/kernel_0-grad instead.\n",
      "INFO:tensorflow:Summary name stack_bidirectional_rnn/cell_1/bidirectional_rnn/fw/lstm_cell/bias:0-grad is illegal; using stack_bidirectional_rnn/cell_1/bidirectional_rnn/fw/lstm_cell/bias_0-grad instead.\n",
      "INFO:tensorflow:Summary name stack_bidirectional_rnn/cell_1/bidirectional_rnn/bw/lstm_cell/kernel:0-grad is illegal; using stack_bidirectional_rnn/cell_1/bidirectional_rnn/bw/lstm_cell/kernel_0-grad instead.\n",
      "INFO:tensorflow:Summary name stack_bidirectional_rnn/cell_1/bidirectional_rnn/bw/lstm_cell/bias:0-grad is illegal; using stack_bidirectional_rnn/cell_1/bidirectional_rnn/bw/lstm_cell/bias_0-grad instead.\n",
      "INFO:tensorflow:Summary name dense/kernel:0-grad is illegal; using dense/kernel_0-grad instead.\n",
      "INFO:tensorflow:Summary name dense/bias:0-grad is illegal; using dense/bias_0-grad instead.\n",
      "INFO:tensorflow:Summary name conv2d/kernel:0-weight is illegal; using conv2d/kernel_0-weight instead.\n",
      "INFO:tensorflow:Summary name conv2d/bias:0-weight is illegal; using conv2d/bias_0-weight instead.\n",
      "INFO:tensorflow:Summary name conv2d_1/kernel:0-weight is illegal; using conv2d_1/kernel_0-weight instead.\n",
      "INFO:tensorflow:Summary name conv2d_1/bias:0-weight is illegal; using conv2d_1/bias_0-weight instead.\n",
      "INFO:tensorflow:Summary name conv2d_2/kernel:0-weight is illegal; using conv2d_2/kernel_0-weight instead.\n",
      "INFO:tensorflow:Summary name conv2d_2/bias:0-weight is illegal; using conv2d_2/bias_0-weight instead.\n",
      "INFO:tensorflow:Summary name conv2d_3/kernel:0-weight is illegal; using conv2d_3/kernel_0-weight instead.\n",
      "INFO:tensorflow:Summary name conv2d_3/bias:0-weight is illegal; using conv2d_3/bias_0-weight instead.\n",
      "INFO:tensorflow:Summary name conv2d_4/kernel:0-weight is illegal; using conv2d_4/kernel_0-weight instead.\n",
      "INFO:tensorflow:Summary name batch_normalization/gamma:0-weight is illegal; using batch_normalization/gamma_0-weight instead.\n",
      "INFO:tensorflow:Summary name batch_normalization/beta:0-weight is illegal; using batch_normalization/beta_0-weight instead.\n",
      "INFO:tensorflow:Summary name conv2d_5/kernel:0-weight is illegal; using conv2d_5/kernel_0-weight instead.\n",
      "INFO:tensorflow:Summary name batch_normalization_1/gamma:0-weight is illegal; using batch_normalization_1/gamma_0-weight instead.\n",
      "INFO:tensorflow:Summary name batch_normalization_1/beta:0-weight is illegal; using batch_normalization_1/beta_0-weight instead.\n",
      "INFO:tensorflow:Summary name conv2d_6/kernel:0-weight is illegal; using conv2d_6/kernel_0-weight instead.\n",
      "INFO:tensorflow:Summary name conv2d_6/bias:0-weight is illegal; using conv2d_6/bias_0-weight instead.\n",
      "INFO:tensorflow:Summary name stack_bidirectional_rnn/cell_0/bidirectional_rnn/fw/lstm_cell/kernel:0-weight is illegal; using stack_bidirectional_rnn/cell_0/bidirectional_rnn/fw/lstm_cell/kernel_0-weight instead.\n",
      "INFO:tensorflow:Summary name stack_bidirectional_rnn/cell_0/bidirectional_rnn/fw/lstm_cell/bias:0-weight is illegal; using stack_bidirectional_rnn/cell_0/bidirectional_rnn/fw/lstm_cell/bias_0-weight instead.\n",
      "INFO:tensorflow:Summary name stack_bidirectional_rnn/cell_0/bidirectional_rnn/bw/lstm_cell/kernel:0-weight is illegal; using stack_bidirectional_rnn/cell_0/bidirectional_rnn/bw/lstm_cell/kernel_0-weight instead.\n",
      "INFO:tensorflow:Summary name stack_bidirectional_rnn/cell_0/bidirectional_rnn/bw/lstm_cell/bias:0-weight is illegal; using stack_bidirectional_rnn/cell_0/bidirectional_rnn/bw/lstm_cell/bias_0-weight instead.\n",
      "INFO:tensorflow:Summary name stack_bidirectional_rnn/cell_1/bidirectional_rnn/fw/lstm_cell/kernel:0-weight is illegal; using stack_bidirectional_rnn/cell_1/bidirectional_rnn/fw/lstm_cell/kernel_0-weight instead.\n",
      "INFO:tensorflow:Summary name stack_bidirectional_rnn/cell_1/bidirectional_rnn/fw/lstm_cell/bias:0-weight is illegal; using stack_bidirectional_rnn/cell_1/bidirectional_rnn/fw/lstm_cell/bias_0-weight instead.\n"
     ]
    },
    {
     "name": "stdout",
     "output_type": "stream",
     "text": [
      "INFO:tensorflow:Summary name stack_bidirectional_rnn/cell_1/bidirectional_rnn/bw/lstm_cell/kernel:0-weight is illegal; using stack_bidirectional_rnn/cell_1/bidirectional_rnn/bw/lstm_cell/kernel_0-weight instead.\n",
      "INFO:tensorflow:Summary name stack_bidirectional_rnn/cell_1/bidirectional_rnn/bw/lstm_cell/bias:0-weight is illegal; using stack_bidirectional_rnn/cell_1/bidirectional_rnn/bw/lstm_cell/bias_0-weight instead.\n",
      "INFO:tensorflow:Summary name dense/kernel:0-weight is illegal; using dense/kernel_0-weight instead.\n",
      "INFO:tensorflow:Summary name dense/bias:0-weight is illegal; using dense/bias_0-weight instead.\n"
     ]
    }
   ],
   "source": [
    "graph,dropout_lstm,dropout_fc,inputs,time_steps,targets,loss,train,decoded,label_error_rate,seq_len,is_training,conv_dropout,gradients,interim_dropout= model.model()\n",
    "\n",
    "valid_generator = valid_datagen.flow(valid_array,valid_label,valid_batch_size)\n",
    "\n",
    "num_valid_samples = valid_array.shape[0]\n",
    "\n",
    "num_vbatches = 1"
   ]
  },
  {
   "cell_type": "code",
   "execution_count": 13,
   "metadata": {},
   "outputs": [],
   "source": [
    "infer_inputs = []; infer_outputs = []; infer_targets = []"
   ]
  },
  {
   "cell_type": "code",
   "execution_count": 15,
   "metadata": {},
   "outputs": [
    {
     "name": "stdout",
     "output_type": "stream",
     "text": [
      "INFO:tensorflow:Restoring parameters from ../saved_models_ler0.07_leakyrelu/cnn_lstm_fc_37\n"
     ]
    }
   ],
   "source": [
    "with tf.Session(graph = graph) as sess:\n",
    "        \n",
    "    saver = tf.train.Saver(max_to_keep=None)\n",
    "    \n",
    "    sess.run(tf.global_variables_initializer())\n",
    "    timer  = 0\n",
    "\n",
    "    saver.restore(sess, mount_point+'saved_models_ler0.07_leakyrelu/cnn_lstm_fc_'+str(resume_epoch))\n",
    "\n",
    "    start_time = time.time()\n",
    "\n",
    "    count = 0\n",
    "\n",
    "    for x,y in valid_generator:\n",
    "       \n",
    "        infer_inputs.append(x)\n",
    "        infer_targets.append(y)\n",
    "        \n",
    "        actual_batch_size = x.shape[0]\n",
    "\n",
    "        if count == num_vbatches:\n",
    "            break\n",
    "\n",
    "        y,widths = np.hsplit(y,2)\n",
    "\n",
    "        widths = np.squeeze(widths,axis=1)\n",
    "        y = np.squeeze(y,axis=1)\n",
    "\n",
    "        widths = [layers.calc_out_dims(CNN,0,int(width))[1] for width in widths]\n",
    "        widths = np.array(widths)\n",
    " \n",
    "        sparse_y = helper._batch_y(y,vocabulary)\n",
    "            \n",
    "        feed = {\n",
    "                         inputs:x,targets:sparse_y,\n",
    "                         time_steps:widths,conv_dropout:[1]*len(CNN),\n",
    "                         dropout_fc:1,dropout_lstm:1,interim_dropout:1,\n",
    "                         is_training:False\n",
    "                }\n",
    "        \n",
    "        loss_val,d = sess.run([loss,decoded],feed_dict=feed)\n",
    "        infer_outputs.append(d)\n",
    "        count+=1"
   ]
  },
  {
   "cell_type": "code",
   "execution_count": 16,
   "metadata": {},
   "outputs": [
    {
     "name": "stdout",
     "output_type": "stream",
     "text": [
      "11.122264\n"
     ]
    }
   ],
   "source": [
    "print(loss_val)"
   ]
  },
  {
   "cell_type": "code",
   "execution_count": 18,
   "metadata": {},
   "outputs": [],
   "source": [
    "content = \"\".join([vocabulary[char] for char in infer_outputs[0][0][1]])"
   ]
  },
  {
   "cell_type": "code",
   "execution_count": 19,
   "metadata": {},
   "outputs": [
    {
     "name": "stdout",
     "output_type": "stream",
     "text": [
      "the Navy - why should I pick on Brikes ? \" \n"
     ]
    }
   ],
   "source": [
    "print(content)"
   ]
  },
  {
   "cell_type": "code",
   "execution_count": 20,
   "metadata": {},
   "outputs": [],
   "source": [
    "img1 = infer_inputs[0][0]\n",
    "img1 = img1.reshape(img1.shape[:2])"
   ]
  },
  {
   "cell_type": "code",
   "execution_count": 21,
   "metadata": {},
   "outputs": [
    {
     "data": {
      "text/plain": [
       "(114, 758)"
      ]
     },
     "execution_count": 21,
     "metadata": {},
     "output_type": "execute_result"
    }
   ],
   "source": [
    "img1.shape"
   ]
  },
  {
   "cell_type": "code",
   "execution_count": 22,
   "metadata": {},
   "outputs": [],
   "source": [
    "plt.imsave('test_input.jpg',img1,cmap='gray',format='jpg')"
   ]
  },
  {
   "cell_type": "code",
   "execution_count": 23,
   "metadata": {},
   "outputs": [
    {
     "data": {
      "text/plain": [
       "array(['the Navy - why should I pick on Pericles ? \" ', '570'],\n",
       "      dtype='<U73')"
      ]
     },
     "execution_count": 23,
     "metadata": {},
     "output_type": "execute_result"
    }
   ],
   "source": [
    "infer_targets[0][0]"
   ]
  }
 ],
 "metadata": {
  "kernelspec": {
   "display_name": "Python [conda env:tensorflow_p36]",
   "language": "python",
   "name": "conda-env-tensorflow_p36-py"
  },
  "language_info": {
   "codemirror_mode": {
    "name": "ipython",
    "version": 3
   },
   "file_extension": ".py",
   "mimetype": "text/x-python",
   "name": "python",
   "nbconvert_exporter": "python",
   "pygments_lexer": "ipython3",
   "version": "3.6.4"
  }
 },
 "nbformat": 4,
 "nbformat_minor": 2
}
