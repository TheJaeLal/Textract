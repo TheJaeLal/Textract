{
 "cells": [
  {
   "cell_type": "code",
   "execution_count": 3,
   "metadata": {},
   "outputs": [],
   "source": [
    "import editdistance"
   ]
  },
  {
   "cell_type": "code",
   "execution_count": 14,
   "metadata": {
    "collapsed": true
   },
   "outputs": [],
   "source": [
    "def calculate_error_rate(label_string, decoded_string):\n",
    "    \n",
    "    word_edit_distance = editdistance.eval(label_string.split(),decoded_string.split())\n",
    "    word_error_rate = word_edit_distance / len(decoded_string.split())\n",
    "    \n",
    "    char_edit_distance = editdistance.eval(label_string,decoded_string)\n",
    "    char_error_rate = char_edit_distance / len(decoded_string)\n",
    "    \n",
    "    return char_error_rate,word_error_rate"
   ]
  },
  {
   "cell_type": "code",
   "execution_count": 17,
   "metadata": {},
   "outputs": [
    {
     "name": "stdout",
     "output_type": "stream",
     "text": [
      "0.2 0.5\n"
     ]
    }
   ],
   "source": [
    "cer, wer = calculate_error_rate('This is my name','Tis is mah name')\n",
    "print(cer, wer)"
   ]
  },
  {
   "cell_type": "code",
   "execution_count": null,
   "metadata": {
    "collapsed": true
   },
   "outputs": [],
   "source": []
  }
 ],
 "metadata": {
  "kernelspec": {
   "display_name": "Python 3",
   "language": "python",
   "name": "python3"
  },
  "language_info": {
   "codemirror_mode": {
    "name": "ipython",
    "version": 3
   },
   "file_extension": ".py",
   "mimetype": "text/x-python",
   "name": "python",
   "nbconvert_exporter": "python",
   "pygments_lexer": "ipython3",
   "version": "3.6.2"
  }
 },
 "nbformat": 4,
 "nbformat_minor": 2
}
