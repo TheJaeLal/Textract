{
 "cells": [
  {
   "cell_type": "code",
   "execution_count": 1,
   "metadata": {},
   "outputs": [
    {
     "name": "stderr",
     "output_type": "stream",
     "text": [
      "/home/ubuntu/anaconda3/envs/tensorflow_p36/lib/python3.6/site-packages/h5py/__init__.py:36: FutureWarning: Conversion of the second argument of issubdtype from `float` to `np.floating` is deprecated. In future, it will be treated as `np.float64 == np.dtype(float).type`.\n",
      "  from ._conv import register_converters as _register_converters\n",
      "/home/ubuntu/anaconda3/envs/tensorflow_p36/lib/python3.6/site-packages/matplotlib/__init__.py:962: UserWarning: Duplicate key in file \"/home/ubuntu/.config/matplotlib/matplotlibrc\", line #2\n",
      "  (fname, cnt))\n",
      "/home/ubuntu/anaconda3/envs/tensorflow_p36/lib/python3.6/site-packages/matplotlib/__init__.py:962: UserWarning: Duplicate key in file \"/home/ubuntu/.config/matplotlib/matplotlibrc\", line #3\n",
      "  (fname, cnt))\n"
     ]
    }
   ],
   "source": [
    "from helper import create_batches_test\n",
    "import tensorflow as tf\n",
    "import numpy as np\n",
    "import shelve\n",
    "import joblib\n",
    "import random\n",
    "import time\n",
    "import math\n",
    "import matplotlib.pyplot as plt\n",
    "\n",
    "#Cuz the file is inside 'code' directory\n",
    "mount_point = \"../shelved_data/\"\n",
    "\n",
    "with shelve.open(mount_point+'IAM_Data') as shelf:\n",
    "    vocabulary = shelf['chars']\n",
    "#     list_of_images = shelf['list_of_images']\n",
    "#     image_labels = shelf['image_labels']\n",
    "\n",
    "with shelve.open(mount_point+'Test/image_data') as shelf:\n",
    "    list_of_images = shelf['list_of_images']\n",
    "\n",
    "image_arrays = joblib.load(mount_point+'Test/image_arrays')\n",
    "\n",
    "#List_images ko sort karo\n",
    "#list_of_images.sort()\n",
    "\n",
    "#Convert vocabulary to list\n",
    "vocabulary = list(vocabulary)\n",
    "#Sort so as to have the same ordering every time..\n",
    "vocabulary.sort()\n",
    "vocabulary.append(\"<Blank>\")"
   ]
  },
  {
   "cell_type": "markdown",
   "metadata": {},
   "source": [
    "## Test Parameters"
   ]
  },
  {
   "cell_type": "code",
   "execution_count": 2,
   "metadata": {},
   "outputs": [],
   "source": [
    "img_height = 104\n",
    "img_width = 688\n",
    "vocab_size = len(vocabulary)\n",
    "\n",
    "\n",
    "conv_out_height, conv_out_width = (int(math.ceil(img_height/(2**3 * 3))),int(math.ceil(img_width/(2**3 * 3))))\n",
    "\n",
    "#Number of time_steps to unroll for..\n",
    "seq_len = conv_out_height * conv_out_width\n",
    "\n",
    "training_list = list_of_images\n",
    "batch_size = len(training_list)\n",
    "\n",
    "#random.seed(100)\n",
    "#random.shuffle(training_list)"
   ]
  },
  {
   "cell_type": "code",
   "execution_count": 3,
   "metadata": {},
   "outputs": [],
   "source": [
    "#batches_x,batches_y = create_batches(batch_size,training_list,image_arrays,image_labels,vocabulary)\n",
    "#print(len(batches_x),len(batches_y))\n",
    "# list_of_images.sort()\n",
    "new_training_list = list_of_images\n",
    "batches_x = create_batches_test(batch_size,new_training_list,image_arrays)"
   ]
  },
  {
   "cell_type": "markdown",
   "metadata": {},
   "source": [
    "## Predict using Model"
   ]
  },
  {
   "cell_type": "code",
   "execution_count": 4,
   "metadata": {},
   "outputs": [],
   "source": [
    "resume_epoch = 1725"
   ]
  },
  {
   "cell_type": "code",
   "execution_count": 5,
   "metadata": {},
   "outputs": [],
   "source": [
    "outputs = []"
   ]
  },
  {
   "cell_type": "code",
   "execution_count": 6,
   "metadata": {},
   "outputs": [
    {
     "name": "stdout",
     "output_type": "stream",
     "text": [
      "INFO:tensorflow:Restoring parameters from ../model/200_5_Lines_RNN_1725\n"
     ]
    },
    {
     "ename": "NameError",
     "evalue": "name 'batches_y' is not defined",
     "output_type": "error",
     "traceback": [
      "\u001b[0;31m---------------------------------------------------------------------------\u001b[0m",
      "\u001b[0;31mNameError\u001b[0m                                 Traceback (most recent call last)",
      "\u001b[0;32m<ipython-input-6-fa280a86c0db>\u001b[0m in \u001b[0;36m<module>\u001b[0;34m()\u001b[0m\n\u001b[1;32m     22\u001b[0m \u001b[0;34m\u001b[0m\u001b[0m\n\u001b[1;32m     23\u001b[0m     \u001b[0;32mfor\u001b[0m \u001b[0mb\u001b[0m \u001b[0;32min\u001b[0m \u001b[0mrange\u001b[0m\u001b[0;34m(\u001b[0m\u001b[0mlen\u001b[0m\u001b[0;34m(\u001b[0m\u001b[0mbatches_x\u001b[0m\u001b[0;34m)\u001b[0m\u001b[0;34m)\u001b[0m\u001b[0;34m:\u001b[0m\u001b[0;34m\u001b[0m\u001b[0m\n\u001b[0;32m---> 24\u001b[0;31m         feed = {inputs:batches_x[b].transpose([2,0,1]),target_indices:batches_y[b][0],target_values:batches_y[b][1],target_shape:batches_y[b][2],\n\u001b[0m\u001b[1;32m     25\u001b[0m                 \u001b[0mtime_steps\u001b[0m\u001b[0;34m:\u001b[0m\u001b[0mnp\u001b[0m\u001b[0;34m.\u001b[0m\u001b[0marray\u001b[0m\u001b[0;34m(\u001b[0m\u001b[0;34m[\u001b[0m\u001b[0mseq_len\u001b[0m\u001b[0;34m]\u001b[0m\u001b[0;34m*\u001b[0m\u001b[0mbatch_size\u001b[0m\u001b[0;34m)\u001b[0m\u001b[0;34m,\u001b[0m\u001b[0mdropout_lstm\u001b[0m\u001b[0;34m:\u001b[0m\u001b[0;36m1.0\u001b[0m\u001b[0;34m,\u001b[0m \u001b[0mdropout_fc\u001b[0m\u001b[0;34m:\u001b[0m\u001b[0;36m1.0\u001b[0m\u001b[0;34m,\u001b[0m\u001b[0;34m\u001b[0m\u001b[0m\n\u001b[1;32m     26\u001b[0m                }\n",
      "\u001b[0;31mNameError\u001b[0m: name 'batches_y' is not defined"
     ]
    }
   ],
   "source": [
    "with tf.Session() as sess:\n",
    "    # Load the graph\n",
    "    saver = tf.train.import_meta_graph('../model/200_5_Lines_RNN_'+str(resume_epoch)+'.meta')\n",
    "    # Restore the weights and biases\n",
    "    saver.restore(sess, '../model/200_5_Lines_RNN_'+str(resume_epoch))\n",
    "\n",
    "    #Extract the placeholders\n",
    "    inputs = sess.graph.get_tensor_by_name('Placeholder:0')\n",
    "    target_indices = sess.graph.get_tensor_by_name('targets/indices:0')\n",
    "    target_values = sess.graph.get_tensor_by_name('targets/values:0')\n",
    "    target_shape = sess.graph.get_tensor_by_name('targets/shape:0')\n",
    "    \n",
    "    time_steps = sess.graph.get_tensor_by_name('Placeholder_1:0')\n",
    "    dropout_lstm = sess.graph.get_tensor_by_name('Placeholder_2:0')\n",
    "    dropout_fc = sess.graph.get_tensor_by_name('Placeholder_3:0')\n",
    "    \n",
    "    decoded = sess.graph.get_tensor_by_name('CTCGreedyDecoder:1')\n",
    "    cost = sess.graph.get_tensor_by_name('Mean:0')\n",
    "    label_error_rate = sess.graph.get_tensor_by_name('Mean_1:0')\n",
    "    \n",
    "    start_time = time.time()\n",
    "\n",
    "    for b in range(len(batches_x)):\n",
    "        feed = {inputs:batches_x[b].transpose([2,0,1]),\n",
    "                time_steps:np.array([seq_len]*batch_size),dropout_lstm:1.0, dropout_fc:1.0,\n",
    "               }\n",
    "\n",
    "        d = sess.run(decoded, feed_dict=feed)\n",
    "\n",
    "        outputs.append(d)\n",
    "\n",
    "        end_time = time.time()   \n",
    "    \n",
    "        time_taken = end_time - start_time\n",
    "\n",
    "        print(\"{:.2f}\\n\".format(time_taken))"
   ]
  },
  {
   "cell_type": "code",
   "execution_count": null,
   "metadata": {},
   "outputs": [],
   "source": [
    "training_list.index('otsu_11.jpg')"
   ]
  },
  {
   "cell_type": "code",
   "execution_count": null,
   "metadata": {
    "scrolled": true
   },
   "outputs": [],
   "source": [
    "for out in outputs:\n",
    "    content = \"\".join([vocabulary[char] for char in out])\n",
    "    print(content)\n",
    "    print('----------\\n')"
   ]
  },
  {
   "cell_type": "code",
   "execution_count": null,
   "metadata": {},
   "outputs": [],
   "source": [
    "plt.imshow(batches_x[0].transpose([2,0,1])[123],cmap='gray')"
   ]
  }
 ],
 "metadata": {
  "kernelspec": {
   "display_name": "Python [conda env:tensorflow_p36]",
   "language": "python",
   "name": "conda-env-tensorflow_p36-py"
  },
  "language_info": {
   "codemirror_mode": {
    "name": "ipython",
    "version": 3
   },
   "file_extension": ".py",
   "mimetype": "text/x-python",
   "name": "python",
   "nbconvert_exporter": "python",
   "pygments_lexer": "ipython3",
   "version": "3.6.4"
  }
 },
 "nbformat": 4,
 "nbformat_minor": 2
}
