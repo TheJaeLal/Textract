{
 "cells": [
  {
   "cell_type": "code",
   "execution_count": null,
   "metadata": {},
   "outputs": [],
   "source": [
    "import tensorflow as tf\n",
    "from tensorflow import keras\n",
    "import numpy as np\n",
    "from aug_config import img_folder_path,out_folder_path\n",
    "import random"
   ]
  },
  {
   "cell_type": "code",
   "execution_count": null,
   "metadata": {},
   "outputs": [],
   "source": [
    "def augment(image):\n",
    "    n = random.randint(1,8)\n",
    "    #No Augmentation\n",
    "    if n==1 or n==3 or n==5 or n==7:\n",
    "        return image\n",
    "    \n",
    "    #Dilation\n",
    "    elif n==2:\n",
    "        image = image.reshape(1,image.shape[0],image.shape[1],image.shape[2])\n",
    "        dilout = tf.nn.dilation2d(image,filter=myfilter,strides=[1,1,1,1],rates=[1,1,1,1],padding='SAME')\n",
    "        with tf.Session() as sess:\n",
    "            out = dilout.eval(session=sess)\n",
    "        out = out.reshape(out.shape[1],out.shape[2],out.shape[3])\n",
    "        \n",
    "    #Erosion \n",
    "    elif n==4:\n",
    "        image = image.reshape(1,image.shape[0],image.shape[1],image.shape[2])\n",
    "        eroded = tf.nn.erosion2d(image,kernel=myfilter,strides=[1,1,1,1],rates=[1,1,1,1],padding='SAME')\n",
    "        with tf.Session() as sess:\n",
    "            out = eroded.eval(session=sess)\n",
    "        out = out.reshape(out.shape[1],out.shape[2],out.shape[3])\n",
    "    \n",
    "    #Rotation\n",
    "    elif n==6:\n",
    "        out = keras.preprocessing.image.random_rotation(image,max_rotation,row_axis=0,col_axis=1,channel_axis=2)\n",
    "\n",
    "    #Zoom out\n",
    "    else:\n",
    "        out = keras.preprocessing.image.random_zoom(image,max_zoom,row_axis=0,col_axis=1,channel_axis=2)\n",
    "        \n",
    "    return out"
   ]
  },
  {
   "cell_type": "code",
   "execution_count": null,
   "metadata": {},
   "outputs": [],
   "source": [
    "train_datagen = keras.preprocessing.image.ImageDataGenerator(preprocessing_function=augment)\n",
    "train_generator = train_datagen.flow_from_directory(\n",
    "                                        directory=img_folder_path,\n",
    "                                        target_size=(345,2295),\n",
    "                                        color_mode='grayscale',class_mode=None,\n",
    "                                        batch_size=7,save_to_dir=out_folder_path,\n",
    "                                        save_prefix='transformed'\n",
    "                                    )"
   ]
  },
  {
   "cell_type": "markdown",
   "metadata": {},
   "source": [
    "## Training Loop"
   ]
  },
  {
   "cell_type": "code",
   "execution_count": null,
   "metadata": {},
   "outputs": [],
   "source": [
    "counter = 0\n",
    "for batch in train_generator:\n",
    "    counter+=1\n",
    "    if counter == 20:\n",
    "        break"
   ]
  }
 ],
 "metadata": {
  "kernelspec": {
   "display_name": "Python 3",
   "language": "python",
   "name": "python3"
  },
  "language_info": {
   "codemirror_mode": {
    "name": "ipython",
    "version": 3
   },
   "file_extension": ".py",
   "mimetype": "text/x-python",
   "name": "python",
   "nbconvert_exporter": "python",
   "pygments_lexer": "ipython3",
   "version": "3.6.4"
  }
 },
 "nbformat": 4,
 "nbformat_minor": 2
}
