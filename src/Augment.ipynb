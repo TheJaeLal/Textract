{
 "cells": [
  {
   "cell_type": "code",
   "execution_count": 1,
   "metadata": {
    "collapsed": true
   },
   "outputs": [],
   "source": [
    "import tensorflow as tf\n",
    "from tensorflow import keras\n",
    "import numpy as np\n",
    "from aug_config import *\n",
    "import random"
   ]
  },
  {
   "cell_type": "code",
   "execution_count": 2,
   "metadata": {
    "collapsed": true
   },
   "outputs": [],
   "source": [
    "def augment(image):\n",
    "    n = random.randint(1,8)\n",
    "    #No Augmentation\n",
    "    if n==1 or n==3 or n==5 or n==7:\n",
    "        return image\n",
    "    \n",
    "    #Dilation\n",
    "#     elif n==2:\n",
    "#         image = image.reshape(1,image.shape[0],image.shape[1],image.shape[2])\n",
    "#         dilout = tf.nn.dilation2d(image,filter=myfilter,strides=[1,1,1,1],rates=[1,1,1,1],padding='SAME')\n",
    "#         with tf.Session() as sess:\n",
    "#             out = dilout.eval(session=sess)\n",
    "#         out = out.reshape(out.shape[1],out.shape[2],out.shape[3])\n",
    "        \n",
    "#     #Erosion \n",
    "#     elif n==4:\n",
    "#         image = image.reshape(1,image.shape[0],image.shape[1],image.shape[2])\n",
    "#         eroded = tf.nn.erosion2d(image,kernel=myfilter,strides=[1,1,1,1],rates=[1,1,1,1],padding='SAME')\n",
    "#         with tf.Session() as sess:\n",
    "#             out = eroded.eval(session=sess)\n",
    "#         out = out.reshape(out.shape[1],out.shape[2],out.shape[3])\n",
    "    \n",
    "    #Rotation\n",
    "    elif n==6:\n",
    "        out = keras.preprocessing.image.random_rotation(image,max_rotation,row_axis=0,col_axis=1,channel_axis=2)\n",
    "\n",
    "    #Zoom out\n",
    "    elif n==4:\n",
    "        out = keras.preprocessing.image.random_zoom(image,max_zoom,row_axis=0,col_axis=1,channel_axis=2)\n",
    "    \n",
    "    #Vertical Shift\n",
    "    elif n==2:\n",
    "        out = keras.preprocessing.image.random_shift(image,0,0.2,row_axis=0,col_axis=1,channel_axis=2)\n",
    "    \n",
    "    else:\n",
    "        m = random.randint(baseline_upper_bound,baseline_lower_bound)\n",
    "        image[m:m+baseline_width,:,:] = 255\n",
    "        out = image\n",
    "    return out"
   ]
  },
  {
   "cell_type": "code",
   "execution_count": 3,
   "metadata": {},
   "outputs": [
    {
     "ename": "TypeError",
     "evalue": "flow_from_directory() missing 1 required positional argument: 'directory'",
     "output_type": "error",
     "traceback": [
      "\u001b[0;31m---------------------------------------------------------------------------\u001b[0m",
      "\u001b[0;31mTypeError\u001b[0m                                 Traceback (most recent call last)",
      "\u001b[0;32m<ipython-input-3-75575b77946f>\u001b[0m in \u001b[0;36m<module>\u001b[0;34m()\u001b[0m\n\u001b[1;32m      3\u001b[0m                                         \u001b[0mcolor_mode\u001b[0m\u001b[0;34m=\u001b[0m\u001b[0;34m'grayscale'\u001b[0m\u001b[0;34m,\u001b[0m\u001b[0mclass_mode\u001b[0m\u001b[0;34m=\u001b[0m\u001b[0;32mNone\u001b[0m\u001b[0;34m,\u001b[0m\u001b[0;34m\u001b[0m\u001b[0m\n\u001b[1;32m      4\u001b[0m                                         \u001b[0mbatch_size\u001b[0m\u001b[0;34m=\u001b[0m\u001b[0;36m7\u001b[0m\u001b[0;34m,\u001b[0m\u001b[0msave_to_dir\u001b[0m\u001b[0;34m=\u001b[0m\u001b[0mout_folder_path\u001b[0m\u001b[0;34m,\u001b[0m\u001b[0;34m\u001b[0m\u001b[0m\n\u001b[0;32m----> 5\u001b[0;31m                                         \u001b[0msave_prefix\u001b[0m\u001b[0;34m=\u001b[0m\u001b[0;34m'transformed'\u001b[0m\u001b[0;34m\u001b[0m\u001b[0m\n\u001b[0m\u001b[1;32m      6\u001b[0m                                     )\n",
      "\u001b[0;31mTypeError\u001b[0m: flow_from_directory() missing 1 required positional argument: 'directory'"
     ]
    }
   ],
   "source": [
    "train_datagen = keras.preprocessing.image.ImageDataGenerator(preprocessing_function=augment)\n",
    "train_generator = train_datagen.flow(x = ,y =\n",
    "                                        batch_size=7,save_to_dir=out_folder_path,\n",
    "                                        save_prefix='transformed'\n",
    "                                    )"
   ]
  },
  {
   "cell_type": "markdown",
   "metadata": {},
   "source": [
    "## Training Loop"
   ]
  },
  {
   "cell_type": "code",
   "execution_count": 4,
   "metadata": {
    "collapsed": true
   },
   "outputs": [],
   "source": [
    "counter = 0\n",
    "for batch in train_generator:\n",
    "    counter+=1\n",
    "    if counter == 20:\n",
    "        break"
   ]
  },
  {
   "cell_type": "code",
   "execution_count": 5,
   "metadata": {
    "collapsed": true
   },
   "outputs": [],
   "source": [
    "# !ls ../Augmented"
   ]
  },
  {
   "cell_type": "code",
   "execution_count": 4,
   "metadata": {
    "collapsed": true
   },
   "outputs": [],
   "source": [
    "# !rm -rf ../Augmented/*"
   ]
  },
  {
   "cell_type": "code",
   "execution_count": 7,
   "metadata": {
    "collapsed": true
   },
   "outputs": [],
   "source": [
    "# !mkdir ../Augmented"
   ]
  }
 ],
 "metadata": {
  "kernelspec": {
   "display_name": "Python 3",
   "language": "python",
   "name": "python3"
  },
  "language_info": {
   "codemirror_mode": {
    "name": "ipython",
    "version": 3
   },
   "file_extension": ".py",
   "mimetype": "text/x-python",
   "name": "python",
   "nbconvert_exporter": "python",
   "pygments_lexer": "ipython3",
   "version": "3.6.2"
  }
 },
 "nbformat": 4,
 "nbformat_minor": 2
}
