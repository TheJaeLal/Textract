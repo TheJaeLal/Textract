{
 "cells": [
  {
   "cell_type": "code",
   "execution_count": 1,
   "metadata": {},
   "outputs": [
    {
     "name": "stderr",
     "output_type": "stream",
     "text": [
      "/home/james/anaconda3/lib/python3.6/site-packages/h5py/__init__.py:36: FutureWarning: Conversion of the second argument of issubdtype from `float` to `np.floating` is deprecated. In future, it will be treated as `np.float64 == np.dtype(float).type`.\n",
      "  from ._conv import register_converters as _register_converters\n"
     ]
    }
   ],
   "source": [
    "import tensorflow as tf\n",
    "import matplotlib.pyplot as plt\n",
    "import numpy as np\n",
    "from aug_config import *\n",
    "import os\n",
    "import random"
   ]
  },
  {
   "cell_type": "code",
   "execution_count": 2,
   "metadata": {},
   "outputs": [],
   "source": [
    "def load_img(img_folder_path):\n",
    "    img_paths = [img_folder_path+img_name for img_name in  os.listdir(img_folder_path) if img_name.endswith('.jpg') or img_name.endswith('.png')]\n",
    "    images = [tf.keras.preprocessing.image.load_img(img_path,grayscale=True) for img_path in img_paths]\n",
    "    list_of_arrays = [tf.keras.preprocessing.image.img_to_array(image) for image in images]\n",
    "    image_batch = np.stack(list_of_arrays, axis=0)\n",
    "    return image_batch"
   ]
  },
  {
   "cell_type": "code",
   "execution_count": 3,
   "metadata": {},
   "outputs": [],
   "source": [
    "def dilate(image):\n",
    "    n = random.randint(1,8)\n",
    "    #No Augmentation\n",
    "    if n==1 or n==3 or n==5 or n==7:\n",
    "        return image\n",
    "    \n",
    "    #Dilation\n",
    "    elif n==2:\n",
    "        image = image.reshape(1,image.shape[0],image.shape[1],image.shape[2])\n",
    "        dilout = tf.nn.dilation2d(image,filter=myfilter,strides=[1,1,1,1],rates=[1,1,1,1],padding='SAME')\n",
    "        with tf.Session() as sess:\n",
    "            out = dilout.eval(session=sess)\n",
    "        out = out.reshape(out.shape[1],out.shape[2],out.shape[3])\n",
    "        \n",
    "    #Erosion \n",
    "    elif n==4:\n",
    "        image = image.reshape(1,image.shape[0],image.shape[1],image.shape[2])\n",
    "        eroded = tf.nn.erosion2d(image,kernel=myfilter,strides=[1,1,1,1],rates=[1,1,1,1],padding='SAME')\n",
    "        with tf.Session() as sess:\n",
    "            out = eroded.eval(session=sess)\n",
    "        out = out.reshape(out.shape[1],out.shape[2],out.shape[3])\n",
    "    \n",
    "    #Rotation\n",
    "    elif n==6:\n",
    "        out = tf.keras.preprocessing.image.random_rotation(image,max_rotation,row_axis=0,col_axis=1,channel_axis=2)\n",
    "\n",
    "    #Zoom out\n",
    "    else:\n",
    "        out = tf.keras.preprocessing.image.random_zoom(image,max_zoom,row_axis=0,col_axis=1,channel_axis=2)\n",
    "        \n",
    "    return out"
   ]
  },
  {
   "cell_type": "code",
   "execution_count": 4,
   "metadata": {},
   "outputs": [],
   "source": [
    "def save_all(images):\n",
    "    for i in range(len(images)):\n",
    "        reshaped_img = images[i].reshape(images[i].shape[0],images[i].shape[1])\n",
    "        plt.imsave('out'+str(i)+'.jpg',reshaped_img,cmap='gray',format='jpg')\n",
    "    return"
   ]
  },
  {
   "cell_type": "code",
   "execution_count": 5,
   "metadata": {},
   "outputs": [],
   "source": [
    "# def rotate(image):\n",
    "#     return out"
   ]
  },
  {
   "cell_type": "code",
   "execution_count": 6,
   "metadata": {},
   "outputs": [],
   "source": [
    "images = load_img(img_folder_path)\n",
    "# eroded = erode(images)\n",
    "# save_all(eroded)"
   ]
  },
  {
   "cell_type": "code",
   "execution_count": 7,
   "metadata": {},
   "outputs": [],
   "source": [
    "datagen = tf.keras.preprocessing.image.ImageDataGenerator(preprocessing_function=dilate)"
   ]
  },
  {
   "cell_type": "code",
   "execution_count": 8,
   "metadata": {},
   "outputs": [
    {
     "name": "stdout",
     "output_type": "stream",
     "text": [
      "WARNING:tensorflow:Expected input to be images (as Numpy array) following the data format convention \"channels_last\" (channels on axis 3), i.e. expected either 1, 3 or 4 channels on axis 3. However, it was passed an array with shape (7, 345, 2295, 1) (1 channels).\n"
     ]
    }
   ],
   "source": [
    "datagen.fit(images)"
   ]
  },
  {
   "cell_type": "code",
   "execution_count": 9,
   "metadata": {},
   "outputs": [],
   "source": [
    "counter = 0\n",
    "for batch in datagen.flow(images,batch_size=7,save_to_dir='images/',save_prefix='transformed'):\n",
    "    counter+=1\n",
    "    if counter == 50:\n",
    "        break\n",
    "        "
   ]
  },
  {
   "cell_type": "code",
   "execution_count": 10,
   "metadata": {},
   "outputs": [],
   "source": [
    "# out = rotate(images)\n",
    "# save_all(out)"
   ]
  },
  {
   "cell_type": "code",
   "execution_count": 11,
   "metadata": {},
   "outputs": [],
   "source": [
    "# images = load_img(img_folder_path)\n",
    "# dilated = dilate(images)\n",
    "# save_all(dilated)"
   ]
  },
  {
   "cell_type": "code",
   "execution_count": null,
   "metadata": {},
   "outputs": [],
   "source": []
  },
  {
   "cell_type": "code",
   "execution_count": 12,
   "metadata": {},
   "outputs": [],
   "source": [
    "#Add some skew/rotation\n",
    "# out = tf.keras.preprocessing.image.random_zoom(image,[0.8,1.5],row_axis=0,col_axis=1,channel_axis=2)\n",
    "# out = tf.keras.preprocessing.image.random_shear(image,1,row_axis=0,col_axis=1)\n",
    "\n",
    "# plt.imsave('out.jpg',out,format='jpg')"
   ]
  },
  {
   "cell_type": "code",
   "execution_count": 13,
   "metadata": {},
   "outputs": [],
   "source": [
    "# out = out.reshape([1,out.shape[0],out.shape[1],out.shape[2]])"
   ]
  },
  {
   "cell_type": "code",
   "execution_count": 14,
   "metadata": {},
   "outputs": [],
   "source": [
    "# dilout = tf.nn.dilation2d(out,filter=myfilter,strides=[1,2,2,1],rates=[1,1,1,1],padding='SAME')"
   ]
  }
 ],
 "metadata": {
  "kernelspec": {
   "display_name": "Python 3",
   "language": "python",
   "name": "python3"
  },
  "language_info": {
   "codemirror_mode": {
    "name": "ipython",
    "version": 3
   },
   "file_extension": ".py",
   "mimetype": "text/x-python",
   "name": "python",
   "nbconvert_exporter": "python",
   "pygments_lexer": "ipython3",
   "version": "3.6.4"
  }
 },
 "nbformat": 4,
 "nbformat_minor": 2
}
