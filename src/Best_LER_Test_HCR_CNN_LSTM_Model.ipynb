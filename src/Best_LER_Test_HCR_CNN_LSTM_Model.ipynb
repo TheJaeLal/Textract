{
 "cells": [
  {
   "cell_type": "code",
   "execution_count": 1,
   "metadata": {},
   "outputs": [
    {
     "name": "stderr",
     "output_type": "stream",
     "text": [
      "/home/ubuntu/anaconda3/envs/tensorflow_p36/lib/python3.6/site-packages/h5py/__init__.py:36: FutureWarning: Conversion of the second argument of issubdtype from `float` to `np.floating` is deprecated. In future, it will be treated as `np.float64 == np.dtype(float).type`.\n",
      "  from ._conv import register_converters as _register_converters\n",
      "/home/ubuntu/anaconda3/envs/tensorflow_p36/lib/python3.6/site-packages/matplotlib/__init__.py:962: UserWarning: Duplicate key in file \"/home/ubuntu/.config/matplotlib/matplotlibrc\", line #2\n",
      "  (fname, cnt))\n",
      "/home/ubuntu/anaconda3/envs/tensorflow_p36/lib/python3.6/site-packages/matplotlib/__init__.py:962: UserWarning: Duplicate key in file \"/home/ubuntu/.config/matplotlib/matplotlibrc\", line #3\n",
      "  (fname, cnt))\n"
     ]
    }
   ],
   "source": [
    "from helper import create_batches\n",
    "import tensorflow as tf\n",
    "import numpy as np\n",
    "import shelve\n",
    "import joblib\n",
    "import random\n",
    "import time\n",
    "import math\n",
    "import matplotlib.pyplot as plt\n",
    "\n",
    "#Cuz the file is inside 'code' directory\n",
    "mount_point = \"../shelved_data/\"\n",
    "\n",
    "with shelve.open(mount_point+'IAM_Data') as shelf:\n",
    "    vocabulary = shelf['chars']\n",
    "    list_of_images = shelf['list_of_images']\n",
    "    image_labels = shelf['image_labels']\n",
    "    \n",
    "image_arrays = joblib.load(mount_point+'image_arrays')\n",
    "\n",
    "#List_images ko sort karo\n",
    "# list_of_images.sort()\n",
    "\n",
    "#Convert vocabulary to list\n",
    "vocabulary = list(vocabulary)\n",
    "#Sort so as to have the same ordering every time..\n",
    "vocabulary.sort()\n",
    "vocabulary.append(\"<Blank>\")"
   ]
  },
  {
   "cell_type": "markdown",
   "metadata": {},
   "source": [
    "## Test Parameters"
   ]
  },
  {
   "cell_type": "code",
   "execution_count": 2,
   "metadata": {
    "collapsed": true
   },
   "outputs": [],
   "source": [
    "img_height = 104\n",
    "img_width = 688\n",
    "vocab_size = len(vocabulary)\n",
    "\n",
    "conv_out_height, conv_out_width = (int(math.ceil(img_height/(2**3 * 3))),int(math.ceil(img_width/(2**3 * 3))))\n",
    "\n",
    "#Number of time_steps to unroll for..\n",
    "seq_len = conv_out_height * conv_out_width\n",
    "\n",
    "training_list = list_of_images[13518:13522]\n",
    "batch_size = len(training_list)"
   ]
  },
  {
   "cell_type": "code",
   "execution_count": 3,
   "metadata": {},
   "outputs": [
    {
     "name": "stdout",
     "output_type": "stream",
     "text": [
      "1 1\n"
     ]
    }
   ],
   "source": [
    "batches_x,batches_y = create_batches(batch_size,training_list,image_arrays,image_labels,vocabulary)\n",
    "print(len(batches_x),len(batches_y))"
   ]
  },
  {
   "cell_type": "markdown",
   "metadata": {},
   "source": [
    "## Predict using Model"
   ]
  },
  {
   "cell_type": "code",
   "execution_count": 4,
   "metadata": {
    "collapsed": true
   },
   "outputs": [],
   "source": [
    "resume_epoch = 1545"
   ]
  },
  {
   "cell_type": "code",
   "execution_count": 5,
   "metadata": {
    "collapsed": true
   },
   "outputs": [],
   "source": [
    "outputs = []"
   ]
  },
  {
   "cell_type": "code",
   "execution_count": 6,
   "metadata": {},
   "outputs": [
    {
     "name": "stdout",
     "output_type": "stream",
     "text": [
      "INFO:tensorflow:Restoring parameters from ../model/200_5_Lines_RNN_1545\n"
     ]
    }
   ],
   "source": [
    "with tf.Session() as sess:\n",
    "    # Load the graph\n",
    "    saver = tf.train.import_meta_graph('../model/200_5_Lines_RNN_'+str(resume_epoch)+'.meta')\n",
    "    # Restore the weights and biases\n",
    "    saver.restore(sess, '../model/200_5_Lines_RNN_'+str(resume_epoch))\n",
    "\n",
    "    #Extract the placeholders\n",
    "    inputs = sess.graph.get_tensor_by_name('Placeholder:0')\n",
    "    target_indices = sess.graph.get_tensor_by_name('targets/indices:0')\n",
    "    target_values = sess.graph.get_tensor_by_name('targets/values:0')\n",
    "    target_shape = sess.graph.get_tensor_by_name('targets/shape:0')\n",
    "    \n",
    "    time_steps = sess.graph.get_tensor_by_name('Placeholder_1:0')\n",
    "    dropout_lstm = sess.graph.get_tensor_by_name('Placeholder_2:0')\n",
    "    dropout_fc = sess.graph.get_tensor_by_name('Placeholder_3:0')\n",
    "    \n",
    "    decoded = sess.graph.get_tensor_by_name('CTCGreedyDecoder:1')\n",
    "    cost = sess.graph.get_tensor_by_name('Mean:0')\n",
    "    label_error_rate = sess.graph.get_tensor_by_name('Mean_1:0')\n",
    "\n",
    "    start_time = time.time()\n",
    "    \n",
    "    \n",
    "    for b in range(len(batches_x)):\n",
    "        feed = {inputs:batches_x[b].transpose([2,0,1]),target_indices:batches_y[b][0],target_values:batches_y[b][1],target_shape:batches_y[b][2],\n",
    "                time_steps:np.array([seq_len]*batch_size),dropout_lstm:1.0, dropout_fc:1.0,\n",
    "               }\n",
    "\n",
    "        cost_val,ler_val,d = sess.run([cost,label_error_rate,decoded], feed_dict=feed)\n",
    "\n",
    "        outputs.append(d)\n",
    "\n",
    "        end_time = time.time()   \n",
    "    \n",
    "        time_taken = end_time - start_time\n",
    "\n",
    "#         print(\"{:.6f},{:.2f},{:.2f}\\n\".format(cost_val,ler_val,time_taken))"
   ]
  },
  {
   "cell_type": "code",
   "execution_count": 7,
   "metadata": {},
   "outputs": [
    {
     "data": {
      "text/plain": [
       "1"
      ]
     },
     "execution_count": 7,
     "metadata": {},
     "output_type": "execute_result"
    }
   ],
   "source": [
    "len(outputs)"
   ]
  },
  {
   "cell_type": "code",
   "execution_count": 8,
   "metadata": {
    "collapsed": true
   },
   "outputs": [],
   "source": [
    "plt.imsave('1.png',image_arrays[training_list[0]],cmap='gray',format='png')\n",
    "plt.imsave('2.png',image_arrays[training_list[1]],cmap='gray',format='png')\n",
    "plt.imsave('3.png',image_arrays[training_list[2]],cmap='gray',format='png')\n",
    "# plt.imsave('4.png',image_arrays[training_list[3]],cmap='gray',format='png')\n",
    "# plt.imsave('5.png',image_arrays[training_list[4]],cmap='gray',format='png')"
   ]
  },
  {
   "cell_type": "code",
   "execution_count": 9,
   "metadata": {
    "collapsed": true
   },
   "outputs": [],
   "source": [
    "content = \"\".join([vocabulary[char] for char in outputs[0]])"
   ]
  },
  {
   "cell_type": "code",
   "execution_count": 10,
   "metadata": {},
   "outputs": [
    {
     "data": {
      "text/plain": [
       "'for herf ;  would be altgther in or mind o her if he a flaw but ei eni , et not hear . Hower , Mis Pni tone '"
      ]
     },
     "execution_count": 10,
     "metadata": {},
     "output_type": "execute_result"
    }
   ],
   "source": [
    "content"
   ]
  },
  {
   "cell_type": "code",
   "execution_count": 11,
   "metadata": {
    "collapsed": true
   },
   "outputs": [],
   "source": [
    "# target = \"\".join(image_labels[training_list[i]] for i in range(batch_size))"
   ]
  },
  {
   "cell_type": "code",
   "execution_count": null,
   "metadata": {
    "collapsed": true
   },
   "outputs": [],
   "source": []
  },
  {
   "cell_type": "code",
   "execution_count": 12,
   "metadata": {
    "collapsed": true
   },
   "outputs": [],
   "source": [
    "# target"
   ]
  },
  {
   "cell_type": "code",
   "execution_count": 13,
   "metadata": {
    "collapsed": true
   },
   "outputs": [],
   "source": [
    "# print(image_labels[training_list[4]])"
   ]
  },
  {
   "cell_type": "code",
   "execution_count": 14,
   "metadata": {},
   "outputs": [
    {
     "data": {
      "text/plain": [
       "'Lines/c03/c03-081f/c03-081f-02.png'"
      ]
     },
     "execution_count": 14,
     "metadata": {},
     "output_type": "execute_result"
    }
   ],
   "source": [
    "training_list[0]"
   ]
  },
  {
   "cell_type": "code",
   "execution_count": 15,
   "metadata": {},
   "outputs": [
    {
     "data": {
      "text/plain": [
       "<matplotlib.image.AxesImage at 0x7f46d647e9b0>"
      ]
     },
     "execution_count": 15,
     "metadata": {},
     "output_type": "execute_result"
    },
    {
     "data": {
      "image/png": "[encoded data removed]",
      "text/plain": [
       "<matplotlib.figure.Figure at 0x7f46d6c5fdd8>"
      ]
     },
     "metadata": {},
     "output_type": "display_data"
    }
   ],
   "source": [
    "plt.imshow(batches_x[0].transpose([2,0,1])[0],cmap='gray')"
   ]
  },
  {
   "cell_type": "code",
   "execution_count": 16,
   "metadata": {
    "collapsed": true
   },
   "outputs": [],
   "source": [
    "# output = str(list(map(dct.get, list(prob_d.values))))"
   ]
  },
  {
   "cell_type": "code",
   "execution_count": 17,
   "metadata": {
    "collapsed": true
   },
   "outputs": [],
   "source": [
    "# #Evaluate the Output\n",
    "# content = []\n",
    "# for k in range(len(out1)):\n",
    "#     content.append(''.join([vocabulary[x] for x in out1[k]]))\n",
    "#     print(\"\\n\".join(content))"
   ]
  },
  {
   "cell_type": "code",
   "execution_count": 18,
   "metadata": {
    "collapsed": true
   },
   "outputs": [],
   "source": [
    "# vocabulary[]"
   ]
  },
  {
   "cell_type": "code",
   "execution_count": 19,
   "metadata": {
    "collapsed": true
   },
   "outputs": [],
   "source": [
    "# out1[0]\n",
    "# for x in out1[0]:\n",
    "#     print(x)"
   ]
  },
  {
   "cell_type": "code",
   "execution_count": 20,
   "metadata": {
    "collapsed": true
   },
   "outputs": [],
   "source": [
    "# out1[100]"
   ]
  },
  {
   "cell_type": "code",
   "execution_count": 21,
   "metadata": {
    "collapsed": true
   },
   "outputs": [],
   "source": [
    "#For Outputs...\n",
    "# Output of CTCGreedyDecoder\n",
    "# [<tf.Tensor 'CTCGreedyDecoder:0' shape=(?, 2) dtype=int64>,\n",
    "#  <tf.Tensor 'CTCGreedyDecoder:1' shape=(?,) dtype=int64>,\n",
    "#  <tf.Tensor 'CTCGreedyDecoder:2' shape=(2,) dtype=int64>,\n",
    "#  <tf.Tensor 'CTCGreedyDecoder:3' shape=(32, 1) dtype=float32>]"
   ]
  }
 ],
 "metadata": {
  "kernelspec": {
   "display_name": "Python 3",
   "language": "python",
   "name": "python3"
  },
  "language_info": {
   "codemirror_mode": {
    "name": "ipython",
    "version": 3
   },
   "file_extension": ".py",
   "mimetype": "text/x-python",
   "name": "python",
   "nbconvert_exporter": "python",
   "pygments_lexer": "ipython3",
   "version": "3.6.2"
  }
 },
 "nbformat": 4,
 "nbformat_minor": 2
}
