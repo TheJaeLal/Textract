{
 "cells": [
  {
   "cell_type": "code",
   "execution_count": 1,
   "metadata": {
    "collapsed": true
   },
   "outputs": [],
   "source": [
    "import numpy as np\n",
    "import cv2\n",
    "import os\n",
    "import math\n",
    "from img_config import input_path,output_path,max_width,max_height,scaled_width,scaled_height,thresh_kernel_size "
   ]
  },
  {
   "cell_type": "code",
   "execution_count": 2,
   "metadata": {
    "collapsed": true
   },
   "outputs": [],
   "source": [
    "# import matplotlib.pyplot as plt\n",
    "from skimage.filters import (median,threshold_sauvola)\n",
    "from skimage.io import imread,imsave"
   ]
  },
  {
   "cell_type": "code",
   "execution_count": 3,
   "metadata": {
    "collapsed": true
   },
   "outputs": [],
   "source": [
    "images = [image for image in os.listdir(input_path) if image.lower().endswith('.jpg') or image.lower().endswith('.png')]"
   ]
  },
  {
   "cell_type": "code",
   "execution_count": 4,
   "metadata": {},
   "outputs": [
    {
     "name": "stderr",
     "output_type": "stream",
     "text": [
      "/home/ubuntu/anaconda3/lib/python3.6/site-packages/skimage/util/dtype.py:122: UserWarning: Possible precision loss when converting from float64 to uint8\n",
      "  .format(dtypeobj_in, dtypeobj_out))\n"
     ]
    }
   ],
   "source": [
    "for image_name in images: \n",
    "\n",
    "    image = imread(os.path.join(input_path,image_name),as_grey=True)\n",
    "\n",
    "    image = median(image)\n",
    "    thresh = threshold_sauvola(image, window_size=thresh_kernel_size,k=0.15)\n",
    "    binary = image > thresh\n",
    "    \n",
    "    #Convert binary image from bool to int\n",
    "    binary = binary.astype(int)\n",
    "    binary = binary*255\n",
    "  \n",
    "    image_height, image_width = image.shape\n",
    "    \n",
    "    padding_vertical = max_height - image_height\n",
    "    padding_top = int(padding_vertical/2)\n",
    "\n",
    "    new_image = np.zeros((max_height,max_width))\n",
    "    new_image.fill(255)\n",
    "    \n",
    "    new_image[padding_top:padding_top+image_height,0:image_width] = binary\n",
    "\n",
    "    resize_image = cv2.resize(new_image,(scaled_width,scaled_height,),interpolation = cv2.INTER_AREA)\n",
    "\n",
    "    #Scaled original image width\n",
    "#     scaled_image_width = math.ceil(image_width/3)\n",
    "    \n",
    "#     #Save image_name, width to file\n",
    "#     f = open('scaled_widths.txt','a')\n",
    "#     f.write(\"{0},{1}\\n\".format(image_name,scaled_image_width))\n",
    "#     f.close()\n",
    "    \n",
    "#     resize_image.shape\n",
    "\n",
    "#   imsave(os.path.join(output_path,'binarize_'+image_name),binary)\n",
    "    cv2.imwrite(os.path.join(output_path,image_name),resize_image)"
   ]
  }
 ],
 "metadata": {
  "kernelspec": {
   "display_name": "Python 3",
   "language": "python",
   "name": "python3"
  },
  "language_info": {
   "codemirror_mode": {
    "name": "ipython",
    "version": 3
   },
   "file_extension": ".py",
   "mimetype": "text/x-python",
   "name": "python",
   "nbconvert_exporter": "python",
   "pygments_lexer": "ipython3",
   "version": "3.6.2"
  }
 },
 "nbformat": 4,
 "nbformat_minor": 2
}
